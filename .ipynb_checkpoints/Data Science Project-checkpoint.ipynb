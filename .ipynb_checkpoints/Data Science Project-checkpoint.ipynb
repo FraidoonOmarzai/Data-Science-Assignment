{
 "cells": [
  {
   "cell_type": "markdown",
   "id": "cedc4964",
   "metadata": {},
   "source": [
    "<h1 align=center> Data Science Project </h1>\n",
    "\n",
    "**Task1:** Exploratory Data Analysis \n",
    "\n",
    "**Task2:** Predictive Model (predict the number of years' experience)"
   ]
  },
  {
   "cell_type": "markdown",
   "id": "2d9673f1",
   "metadata": {},
   "source": [
    "## Import Libraries"
   ]
  },
  {
   "cell_type": "code",
   "execution_count": 1,
   "id": "796a96d0",
   "metadata": {},
   "outputs": [],
   "source": [
    "import numpy as np\n",
    "import pandas as pd\n",
    "import matplotlib.pyplot as plt\n",
    "import seaborn as sns\n",
    "\n",
    "import dtale # Automated EDA Library\n",
    "\n",
    "from sklearn.ensemble import RandomForestRegressor\n",
    "from sklearn.model_selection import train_test_split\n",
    "from sklearn.preprocessing  import LabelEncoder\n",
    "\n",
    "import warnings\n",
    "warnings.filterwarnings(\"ignore\")"
   ]
  },
  {
   "cell_type": "markdown",
   "id": "68cabe3c",
   "metadata": {},
   "source": [
    "## Data Loading"
   ]
  },
  {
   "cell_type": "code",
   "execution_count": 2,
   "id": "af7eab4d",
   "metadata": {
    "scrolled": true
   },
   "outputs": [
    {
     "data": {
      "text/html": [
       "<div>\n",
       "<style scoped>\n",
       "    .dataframe tbody tr th:only-of-type {\n",
       "        vertical-align: middle;\n",
       "    }\n",
       "\n",
       "    .dataframe tbody tr th {\n",
       "        vertical-align: top;\n",
       "    }\n",
       "\n",
       "    .dataframe thead th {\n",
       "        text-align: right;\n",
       "    }\n",
       "</style>\n",
       "<table border=\"1\" class=\"dataframe\">\n",
       "  <thead>\n",
       "    <tr style=\"text-align: right;\">\n",
       "      <th></th>\n",
       "      <th>Respondent</th>\n",
       "      <th>MainBranch</th>\n",
       "      <th>Hobbyist</th>\n",
       "      <th>Age</th>\n",
       "      <th>Age1stCode</th>\n",
       "      <th>CompFreq</th>\n",
       "      <th>CompTotal</th>\n",
       "      <th>ConvertedComp</th>\n",
       "      <th>Country</th>\n",
       "      <th>CurrencyDesc</th>\n",
       "      <th>...</th>\n",
       "      <th>SurveyEase</th>\n",
       "      <th>SurveyLength</th>\n",
       "      <th>Trans</th>\n",
       "      <th>UndergradMajor</th>\n",
       "      <th>WebframeDesireNextYear</th>\n",
       "      <th>WebframeWorkedWith</th>\n",
       "      <th>WelcomeChange</th>\n",
       "      <th>WorkWeekHrs</th>\n",
       "      <th>YearsCode</th>\n",
       "      <th>YearsCodePro</th>\n",
       "    </tr>\n",
       "  </thead>\n",
       "  <tbody>\n",
       "    <tr>\n",
       "      <th>0</th>\n",
       "      <td>1</td>\n",
       "      <td>I am a developer by profession</td>\n",
       "      <td>Yes</td>\n",
       "      <td>NaN</td>\n",
       "      <td>13</td>\n",
       "      <td>Monthly</td>\n",
       "      <td>NaN</td>\n",
       "      <td>NaN</td>\n",
       "      <td>Germany</td>\n",
       "      <td>European Euro</td>\n",
       "      <td>...</td>\n",
       "      <td>Neither easy nor difficult</td>\n",
       "      <td>Appropriate in length</td>\n",
       "      <td>No</td>\n",
       "      <td>Computer science, computer engineering, or sof...</td>\n",
       "      <td>ASP.NET Core</td>\n",
       "      <td>ASP.NET;ASP.NET Core</td>\n",
       "      <td>Just as welcome now as I felt last year</td>\n",
       "      <td>50.0</td>\n",
       "      <td>36</td>\n",
       "      <td>27</td>\n",
       "    </tr>\n",
       "    <tr>\n",
       "      <th>1</th>\n",
       "      <td>2</td>\n",
       "      <td>I am a developer by profession</td>\n",
       "      <td>No</td>\n",
       "      <td>NaN</td>\n",
       "      <td>19</td>\n",
       "      <td>NaN</td>\n",
       "      <td>NaN</td>\n",
       "      <td>NaN</td>\n",
       "      <td>United Kingdom</td>\n",
       "      <td>Pound sterling</td>\n",
       "      <td>...</td>\n",
       "      <td>NaN</td>\n",
       "      <td>NaN</td>\n",
       "      <td>NaN</td>\n",
       "      <td>Computer science, computer engineering, or sof...</td>\n",
       "      <td>NaN</td>\n",
       "      <td>NaN</td>\n",
       "      <td>Somewhat more welcome now than last year</td>\n",
       "      <td>NaN</td>\n",
       "      <td>7</td>\n",
       "      <td>4</td>\n",
       "    </tr>\n",
       "    <tr>\n",
       "      <th>2</th>\n",
       "      <td>3</td>\n",
       "      <td>I code primarily as a hobby</td>\n",
       "      <td>Yes</td>\n",
       "      <td>NaN</td>\n",
       "      <td>15</td>\n",
       "      <td>NaN</td>\n",
       "      <td>NaN</td>\n",
       "      <td>NaN</td>\n",
       "      <td>Russian Federation</td>\n",
       "      <td>NaN</td>\n",
       "      <td>...</td>\n",
       "      <td>Neither easy nor difficult</td>\n",
       "      <td>Appropriate in length</td>\n",
       "      <td>NaN</td>\n",
       "      <td>NaN</td>\n",
       "      <td>NaN</td>\n",
       "      <td>NaN</td>\n",
       "      <td>Somewhat more welcome now than last year</td>\n",
       "      <td>NaN</td>\n",
       "      <td>4</td>\n",
       "      <td>NaN</td>\n",
       "    </tr>\n",
       "    <tr>\n",
       "      <th>3</th>\n",
       "      <td>4</td>\n",
       "      <td>I am a developer by profession</td>\n",
       "      <td>Yes</td>\n",
       "      <td>25.0</td>\n",
       "      <td>18</td>\n",
       "      <td>NaN</td>\n",
       "      <td>NaN</td>\n",
       "      <td>NaN</td>\n",
       "      <td>Albania</td>\n",
       "      <td>Albanian lek</td>\n",
       "      <td>...</td>\n",
       "      <td>NaN</td>\n",
       "      <td>NaN</td>\n",
       "      <td>No</td>\n",
       "      <td>Computer science, computer engineering, or sof...</td>\n",
       "      <td>NaN</td>\n",
       "      <td>NaN</td>\n",
       "      <td>Somewhat less welcome now than last year</td>\n",
       "      <td>40.0</td>\n",
       "      <td>7</td>\n",
       "      <td>4</td>\n",
       "    </tr>\n",
       "    <tr>\n",
       "      <th>4</th>\n",
       "      <td>5</td>\n",
       "      <td>I used to be a developer by profession, but no...</td>\n",
       "      <td>Yes</td>\n",
       "      <td>31.0</td>\n",
       "      <td>16</td>\n",
       "      <td>NaN</td>\n",
       "      <td>NaN</td>\n",
       "      <td>NaN</td>\n",
       "      <td>United States</td>\n",
       "      <td>NaN</td>\n",
       "      <td>...</td>\n",
       "      <td>Easy</td>\n",
       "      <td>Too short</td>\n",
       "      <td>No</td>\n",
       "      <td>Computer science, computer engineering, or sof...</td>\n",
       "      <td>Django;Ruby on Rails</td>\n",
       "      <td>Ruby on Rails</td>\n",
       "      <td>Just as welcome now as I felt last year</td>\n",
       "      <td>NaN</td>\n",
       "      <td>15</td>\n",
       "      <td>8</td>\n",
       "    </tr>\n",
       "  </tbody>\n",
       "</table>\n",
       "<p>5 rows × 61 columns</p>\n",
       "</div>"
      ],
      "text/plain": [
       "   Respondent                                         MainBranch Hobbyist  \\\n",
       "0           1                     I am a developer by profession      Yes   \n",
       "1           2                     I am a developer by profession       No   \n",
       "2           3                        I code primarily as a hobby      Yes   \n",
       "3           4                     I am a developer by profession      Yes   \n",
       "4           5  I used to be a developer by profession, but no...      Yes   \n",
       "\n",
       "    Age Age1stCode CompFreq  CompTotal  ConvertedComp             Country  \\\n",
       "0   NaN         13  Monthly        NaN            NaN             Germany   \n",
       "1   NaN         19      NaN        NaN            NaN      United Kingdom   \n",
       "2   NaN         15      NaN        NaN            NaN  Russian Federation   \n",
       "3  25.0         18      NaN        NaN            NaN             Albania   \n",
       "4  31.0         16      NaN        NaN            NaN       United States   \n",
       "\n",
       "     CurrencyDesc  ...                  SurveyEase           SurveyLength  \\\n",
       "0   European Euro  ...  Neither easy nor difficult  Appropriate in length   \n",
       "1  Pound sterling  ...                         NaN                    NaN   \n",
       "2             NaN  ...  Neither easy nor difficult  Appropriate in length   \n",
       "3    Albanian lek  ...                         NaN                    NaN   \n",
       "4             NaN  ...                        Easy              Too short   \n",
       "\n",
       "  Trans                                     UndergradMajor  \\\n",
       "0    No  Computer science, computer engineering, or sof...   \n",
       "1   NaN  Computer science, computer engineering, or sof...   \n",
       "2   NaN                                                NaN   \n",
       "3    No  Computer science, computer engineering, or sof...   \n",
       "4    No  Computer science, computer engineering, or sof...   \n",
       "\n",
       "  WebframeDesireNextYear    WebframeWorkedWith  \\\n",
       "0           ASP.NET Core  ASP.NET;ASP.NET Core   \n",
       "1                    NaN                   NaN   \n",
       "2                    NaN                   NaN   \n",
       "3                    NaN                   NaN   \n",
       "4   Django;Ruby on Rails         Ruby on Rails   \n",
       "\n",
       "                              WelcomeChange WorkWeekHrs YearsCode YearsCodePro  \n",
       "0   Just as welcome now as I felt last year        50.0        36           27  \n",
       "1  Somewhat more welcome now than last year         NaN         7            4  \n",
       "2  Somewhat more welcome now than last year         NaN         4          NaN  \n",
       "3  Somewhat less welcome now than last year        40.0         7            4  \n",
       "4   Just as welcome now as I felt last year         NaN        15            8  \n",
       "\n",
       "[5 rows x 61 columns]"
      ]
     },
     "execution_count": 2,
     "metadata": {},
     "output_type": "execute_result"
    }
   ],
   "source": [
    "df = pd.read_csv(\"survey_results_public.csv\")\n",
    "df.head()"
   ]
  },
  {
   "cell_type": "code",
   "execution_count": 3,
   "id": "3e433660",
   "metadata": {},
   "outputs": [
    {
     "data": {
      "text/html": [
       "<div>\n",
       "<style scoped>\n",
       "    .dataframe tbody tr th:only-of-type {\n",
       "        vertical-align: middle;\n",
       "    }\n",
       "\n",
       "    .dataframe tbody tr th {\n",
       "        vertical-align: top;\n",
       "    }\n",
       "\n",
       "    .dataframe thead th {\n",
       "        text-align: right;\n",
       "    }\n",
       "</style>\n",
       "<table border=\"1\" class=\"dataframe\">\n",
       "  <thead>\n",
       "    <tr style=\"text-align: right;\">\n",
       "      <th></th>\n",
       "      <th>Respondent</th>\n",
       "      <th>Age</th>\n",
       "      <th>CompTotal</th>\n",
       "      <th>ConvertedComp</th>\n",
       "      <th>WorkWeekHrs</th>\n",
       "    </tr>\n",
       "  </thead>\n",
       "  <tbody>\n",
       "    <tr>\n",
       "      <th>count</th>\n",
       "      <td>64461.000000</td>\n",
       "      <td>45446.000000</td>\n",
       "      <td>3.482600e+04</td>\n",
       "      <td>3.475600e+04</td>\n",
       "      <td>41151.000000</td>\n",
       "    </tr>\n",
       "    <tr>\n",
       "      <th>mean</th>\n",
       "      <td>32554.079738</td>\n",
       "      <td>30.834111</td>\n",
       "      <td>3.190464e+242</td>\n",
       "      <td>1.037561e+05</td>\n",
       "      <td>40.782174</td>\n",
       "    </tr>\n",
       "    <tr>\n",
       "      <th>std</th>\n",
       "      <td>18967.442360</td>\n",
       "      <td>9.585392</td>\n",
       "      <td>inf</td>\n",
       "      <td>2.268853e+05</td>\n",
       "      <td>17.816383</td>\n",
       "    </tr>\n",
       "    <tr>\n",
       "      <th>min</th>\n",
       "      <td>1.000000</td>\n",
       "      <td>1.000000</td>\n",
       "      <td>0.000000e+00</td>\n",
       "      <td>0.000000e+00</td>\n",
       "      <td>1.000000</td>\n",
       "    </tr>\n",
       "    <tr>\n",
       "      <th>25%</th>\n",
       "      <td>16116.000000</td>\n",
       "      <td>24.000000</td>\n",
       "      <td>2.000000e+04</td>\n",
       "      <td>2.464800e+04</td>\n",
       "      <td>40.000000</td>\n",
       "    </tr>\n",
       "    <tr>\n",
       "      <th>50%</th>\n",
       "      <td>32231.000000</td>\n",
       "      <td>29.000000</td>\n",
       "      <td>6.300000e+04</td>\n",
       "      <td>5.404900e+04</td>\n",
       "      <td>40.000000</td>\n",
       "    </tr>\n",
       "    <tr>\n",
       "      <th>75%</th>\n",
       "      <td>49142.000000</td>\n",
       "      <td>35.000000</td>\n",
       "      <td>1.250000e+05</td>\n",
       "      <td>9.500000e+04</td>\n",
       "      <td>44.000000</td>\n",
       "    </tr>\n",
       "    <tr>\n",
       "      <th>max</th>\n",
       "      <td>65639.000000</td>\n",
       "      <td>279.000000</td>\n",
       "      <td>1.111111e+247</td>\n",
       "      <td>2.000000e+06</td>\n",
       "      <td>475.000000</td>\n",
       "    </tr>\n",
       "  </tbody>\n",
       "</table>\n",
       "</div>"
      ],
      "text/plain": [
       "         Respondent           Age      CompTotal  ConvertedComp   WorkWeekHrs\n",
       "count  64461.000000  45446.000000   3.482600e+04   3.475600e+04  41151.000000\n",
       "mean   32554.079738     30.834111  3.190464e+242   1.037561e+05     40.782174\n",
       "std    18967.442360      9.585392            inf   2.268853e+05     17.816383\n",
       "min        1.000000      1.000000   0.000000e+00   0.000000e+00      1.000000\n",
       "25%    16116.000000     24.000000   2.000000e+04   2.464800e+04     40.000000\n",
       "50%    32231.000000     29.000000   6.300000e+04   5.404900e+04     40.000000\n",
       "75%    49142.000000     35.000000   1.250000e+05   9.500000e+04     44.000000\n",
       "max    65639.000000    279.000000  1.111111e+247   2.000000e+06    475.000000"
      ]
     },
     "execution_count": 3,
     "metadata": {},
     "output_type": "execute_result"
    }
   ],
   "source": [
    "df.describe()"
   ]
  },
  {
   "cell_type": "code",
   "execution_count": 4,
   "id": "b62643ac",
   "metadata": {},
   "outputs": [
    {
     "data": {
      "text/html": [
       "\n",
       "        <iframe\n",
       "            width=\"100%\"\n",
       "            height=\"475\"\n",
       "            src=\"http://techie:40000/dtale/iframe/1\"\n",
       "            frameborder=\"0\"\n",
       "            allowfullscreen\n",
       "            \n",
       "        ></iframe>\n",
       "        "
      ],
      "text/plain": [
       "<IPython.lib.display.IFrame at 0x7f5d57151e10>"
      ]
     },
     "metadata": {},
     "output_type": "display_data"
    },
    {
     "data": {
      "text/plain": []
     },
     "execution_count": 4,
     "metadata": {},
     "output_type": "execute_result"
    }
   ],
   "source": [
    "### Using dtale to explore the dataset\n",
    "dtale.show(df)"
   ]
  },
  {
   "cell_type": "markdown",
   "id": "62ce1460",
   "metadata": {},
   "source": [
    "### Get to know each columns"
   ]
  },
  {
   "cell_type": "code",
   "execution_count": 5,
   "id": "7770dec7",
   "metadata": {},
   "outputs": [
    {
     "name": "stdout",
     "output_type": "stream",
     "text": [
      "Respondent=>Randomized respondent ID number (not in order of survey response time)\n",
      "\n",
      "MainBranch=>Which of the following options best describes you today? Here, by \"developer\" we mean \"someone who writes code.\"\n",
      "\n",
      "Hobbyist=>Do you code as a hobby?\n",
      "\n",
      "Age=>What is your age (in years)? If you prefer not to answer, you may leave this question blank.\n",
      "\n",
      "Age1stCode=>At what age did you write your first line of code or program? (e.g., webpage, Hello World, Scratch project)\n",
      "\n",
      "CompFreq=>Is that compensation weekly, monthly, or yearly?\n",
      "\n",
      "CompTotal=>What is your current total compensation (salary, bonuses, and perks, before taxes and deductions), in `CurrencySymbol`? Please enter a whole number in the box below, without any punctuation. If you are paid hourly, please estimate an equivalent weekly, monthly, or yearly salary. If you prefer not to answer, please leave the box empty.\n",
      "\n",
      "ConvertedComp=>Salary converted to annual USD salaries using the exchange rate on 2020-02-19, assuming 12 working months and 50 working weeks.\n",
      "\n",
      "Country=>Where do you live?\n",
      "\n",
      "CurrencyDesc=>Which currency do you use day-to-day? If your answer is complicated, please pick the one you're most comfortable estimating in.\n",
      "\n",
      "CurrencySymbol=>Which currency do you use day-to-day? If your answer is complicated, please pick the one you're most comfortable estimating in.\n",
      "\n",
      "DatabaseDesireNextYear=>Which database environments have you done extensive development work in over the past year, and which do you want to work in over the next year? (If you both worked with the database and want to continue to do so, please check both boxes in that row.)\n",
      "\n",
      "DatabaseWorkedWith=>Which database environments have you done extensive development work in over the past year, and which do you want to work in over the next year? (If you both worked with the database and want to continue to do so, please check both boxes in that row.)\n",
      "\n",
      "DevType=>Which of the following describe you? Please select all that apply.\n",
      "\n",
      "EdLevel=>Which of the following best describes the highest level of formal education that you’ve completed?\n",
      "\n",
      "Employment=>Which of the following best describes your current employment status?\n",
      "\n",
      "Ethnicity=>Which of the following describe you, if any? Please check all that apply. If you prefer not to answer, you may leave this question blank.\n",
      "\n",
      "Gender=>Which of the following describe you, if any? Please check all that apply. If you prefer not to answer, you may leave this question blank.\n",
      "\n",
      "JobFactors=>Imagine that you are deciding between two job offers with the same compensation, benefits, and location. Of the following factors, which 3 are MOST important to you?\n",
      "\n",
      "JobSat=>How satisfied are you with your current job? (If you work multiple jobs, answer for the one you spend the most hours on.)\n",
      "\n",
      "JobSeek=>Which of the following best describes your current job-seeking status?\n",
      "\n",
      "LanguageDesireNextYear=>Which programming, scripting, and markup languages have you done extensive development work in over the past year, and which do you want to work in over the next year? (If you both worked with the language and want to continue to do so, please check both boxes in that row.)\n",
      "\n",
      "LanguageWorkedWith=>Which programming, scripting, and markup languages have you done extensive development work in over the past year, and which do you want to work in over the next year? (If you both worked with the language and want to continue to do so, please check both boxes in that row.)\n",
      "\n",
      "MiscTechDesireNextYear=>Which other frameworks, libraries, and tools have you done extensive development work in over the past year, and which do you want to work in over the next year? (If you both worked with the framework and want to continue to do so, please check both boxes in that row.)\n",
      "\n",
      "MiscTechWorkedWith=>Which other frameworks, libraries, and tools have you done extensive development work in over the past year, and which do you want to work in over the next year? (If you both worked with the framework and want to continue to do so, please check both boxes in that row.)\n",
      "\n",
      "NEWCollabToolsDesireNextYear=>Which collaboration tools have you done extensive development work in over the past year, and which do you want to work in over the next year? (If you worked with the tool and want to continue to do so, please check both boxes in that row.)\n",
      "\n",
      "NEWCollabToolsWorkedWith=>Which collaboration tools have you done extensive development work in over the past year, and which do you want to work in over the next year? (If you worked with the tool and want to continue to do so, please check both boxes in that row.)\n",
      "\n",
      "NEWDevOps=>Does your company have a dedicated DevOps person?\n",
      "\n",
      "NEWDevOpsImpt=>How important is the practice of DevOps to scaling software development?\n",
      "\n",
      "NEWEdImpt=>How important is a formal education, such as a university degree in computer science, to your career?\n",
      "\n",
      "NEWJobHunt=>In general, what drives you to look for a new job? Select all that apply.\n",
      "\n",
      "NEWJobHuntResearch=>When job searching, how do you learn more about a company? Select all that apply.\n",
      "\n",
      "NEWLearn=>How frequently do you learn a new language or framework?\n",
      "\n",
      "NEWOffTopic=>Do you think Stack Overflow should relax restrictions on what is considered “off-topic”?\n",
      "\n",
      "NEWOnboardGood=>Do you think your company has a good onboarding process? (By onboarding, we mean the structured process of getting you settled in to your new role at a company)\n",
      "\n",
      "NEWOtherComms=>Are you a member of any other online developer communities?\n",
      "\n",
      "NEWOvertime=>How often do you work overtime or beyond the formal time expectation of your job?\n",
      "\n",
      "NEWPurchaseResearch=>When buying a new tool or software, how do you discover and research available solutions? Select all that apply.\n",
      "\n",
      "NEWPurpleLink=>You search for a coding solution online and the first result link is purple because you already visited it. How do you feel?\n",
      "\n",
      "NEWSOSites=>Which of the following Stack Overflow sites have you visited? Select all that apply.\n",
      "\n",
      "NEWStuck=>What do you do when you get stuck on a problem? Select all that apply.\n",
      "\n",
      "OpSys=>What is the primary operating system in which you work?\n",
      "\n",
      "OrgSize=>Approximately how many people are employed by the company or organization you currently work for?\n",
      "\n",
      "PlatformDesireNextYear=>Which platforms have you done extensive development work in over the past year, and which do you want to work in over the next year? (If you both worked with the platform and want to continue to do so, please check both boxes in that row.)\n",
      "\n",
      "PlatformWorkedWith=>Which platforms have you done extensive development work in over the past year, and which do you want to work in over the next year? (If you both worked with the platform and want to continue to do so, please check both boxes in that row.)\n",
      "\n",
      "PurchaseWhat=>What level of influence do you, personally, have over new technology purchases at your organization?\n",
      "\n",
      "Sexuality=>Which of the following describe you, if any? Please check all that apply. If you prefer not to answer, you may leave this question blank.\n",
      "\n",
      "SOAccount=>Do you have a Stack Overflow account?\n",
      "\n",
      "SOComm=>Do you consider yourself a member of the Stack Overflow community?\n",
      "\n",
      "SOPartFreq=>How frequently would you say you participate in Q&A on Stack Overflow? By participate we mean ask, answer, vote for, or comment on questions.\n",
      "\n",
      "SOVisitFreq=>How frequently would you say you visit Stack Overflow?\n",
      "\n",
      "SurveyEase=>How easy or difficult was this survey to complete?\n",
      "\n",
      "SurveyLength=>How do you feel about the length of the survey this year?\n",
      "\n",
      "Trans=>Are you transgender?\n",
      "\n",
      "UndergradMajor=>What was your primary field of study?\n",
      "\n",
      "WebframeDesireNextYear=>Which web frameworks have you done extensive development work in over the past year, and which do you want to work in over the next year? (If you both worked with the framework and want to continue to do so, please check both boxes in that row.)\n",
      "\n",
      "WebframeWorkedWith=>Which web frameworks have you done extensive development work in over the past year, and which do you want to work in over the next year? (If you both worked with the framework and want to continue to do so, please check both boxes in that row.)\n",
      "\n",
      "WelcomeChange=>Compared to last year, how welcome do you feel on Stack Overflow?\n",
      "\n",
      "WorkWeekHrs=>On average, how many hours per week do you work? Please enter a whole number in the box.\n",
      "\n",
      "YearsCode=>Including any education, how many years have you been coding in total?\n",
      "\n",
      "YearsCodePro=>NOT including education, how many years have you coded professionally (as a part of your work)?\n",
      "\n"
     ]
    }
   ],
   "source": [
    "df_des = pd.read_csv(\"survey_results_schema.csv\")\n",
    "\n",
    "for i in range(len(df_des)):\n",
    "    print(f'{df_des[\"Column\"][i]}=>{df_des[\"QuestionText\"][i]}\\n')"
   ]
  },
  {
   "cell_type": "markdown",
   "id": "41434612",
   "metadata": {},
   "source": [
    "### Removing these columns:\n",
    "\n",
    "* Respondent\n",
    "* ConvertedComp\n",
    "* CurrencyDesc\n",
    "* CurrencySymbol\n",
    "* SurveyEase \n",
    "* SurveyLength \n",
    "* WelcomeChange\n",
    "* Ethnicity\n",
    "* NEWJobHuntResearch\n",
    "* JobFactors\n",
    "* LanguageDesireNextYear\n",
    "* CompTotal\n",
    "* MiscTechWorkedWith\n",
    "* MiscTechDesireNextYear\n",
    "* NEWPurchaseResearch\n",
    "* NEWJobHunt\n",
    "* NEWStuck\n",
    "* NEWSOSites\n",
    "* Sexuality\n",
    "* UndergradMajor\n",
    "* OrgSize"
   ]
  },
  {
   "cell_type": "code",
   "execution_count": 6,
   "id": "b22bcdfe",
   "metadata": {},
   "outputs": [
    {
     "name": "stdout",
     "output_type": "stream",
     "text": [
      "(64461, 61) (64461, 40)\n"
     ]
    }
   ],
   "source": [
    "df1 = df.drop([\"Respondent\",\"ConvertedComp\",\"CurrencyDesc\",\"CurrencySymbol\",\"SurveyEase\",\"SurveyLength\",\"WelcomeChange\",\"Ethnicity\",\"NEWJobHuntResearch\",\"JobFactors\", \"LanguageDesireNextYear\",\"CompTotal\",\"MiscTechWorkedWith\",\"MiscTechDesireNextYear\",\"NEWPurchaseResearch\",\"NEWJobHunt\", \"NEWStuck\",\"NEWSOSites\", \"Sexuality\", \"UndergradMajor\", \"OrgSize\"], axis=1)\n",
    "print(df.shape, df1.shape)"
   ]
  },
  {
   "cell_type": "markdown",
   "id": "5a1c73a6",
   "metadata": {},
   "source": [
    "## EDA And Feature Engineering"
   ]
  },
  {
   "cell_type": "markdown",
   "id": "ac464697",
   "metadata": {},
   "source": [
    "**Displaying null values**"
   ]
  },
  {
   "cell_type": "code",
   "execution_count": 7,
   "id": "edddb28e",
   "metadata": {},
   "outputs": [
    {
     "data": {
      "text/plain": [
       "MainBranch                        299\n",
       "Hobbyist                           45\n",
       "Age                             19015\n",
       "Age1stCode                       6561\n",
       "CompFreq                        24392\n",
       "Country                           389\n",
       "DatabaseDesireNextYear          20391\n",
       "DatabaseWorkedWith              14924\n",
       "DevType                         15091\n",
       "EdLevel                          7030\n",
       "Employment                        607\n",
       "Gender                          13904\n",
       "JobSat                          19267\n",
       "JobSeek                         12734\n",
       "LanguageWorkedWith               7083\n",
       "NEWCollabToolsDesireNextYear    17174\n",
       "NEWCollabToolsWorkedWith        11578\n",
       "NEWDevOps                       21775\n",
       "NEWDevOpsImpt                   22729\n",
       "NEWEdImpt                       15996\n",
       "NEWLearn                         8305\n",
       "NEWOffTopic                     13657\n",
       "NEWOnboardGood                  21838\n",
       "NEWOtherComms                    7256\n",
       "NEWOvertime                     21230\n",
       "NEWPurpleLink                    9658\n",
       "OpSys                            8233\n",
       "PlatformDesireNextYear          13856\n",
       "PlatformWorkedWith              10618\n",
       "PurchaseWhat                    25097\n",
       "SOAccount                        7656\n",
       "SOComm                           7985\n",
       "SOPartFreq                      17669\n",
       "SOVisitFreq                      7491\n",
       "Trans                           15116\n",
       "WebframeDesireNextYear          24437\n",
       "WebframeWorkedWith              22182\n",
       "WorkWeekHrs                     23310\n",
       "YearsCode                        6777\n",
       "YearsCodePro                    18112\n",
       "dtype: int64"
      ]
     },
     "execution_count": 7,
     "metadata": {},
     "output_type": "execute_result"
    }
   ],
   "source": [
    "df1.isnull().sum()"
   ]
  },
  {
   "cell_type": "code",
   "execution_count": 8,
   "id": "fc02e11f",
   "metadata": {},
   "outputs": [
    {
     "data": {
      "image/png": "[encoded data removed]",
      "text/plain": [
       "<Figure size 4000x2000 with 1 Axes>"
      ]
     },
     "metadata": {},
     "output_type": "display_data"
    }
   ],
   "source": [
    "plt.figure(figsize=(40,20))\n",
    "sns.heatmap(df1.isnull(), yticklabels=False, cbar=False);"
   ]
  },
  {
   "cell_type": "code",
   "execution_count": 9,
   "id": "4d6a4017",
   "metadata": {},
   "outputs": [
    {
     "name": "stdout",
     "output_type": "stream",
     "text": [
      "MainBranch 0.0046  % missing values\n",
      "Hobbyist 0.0007  % missing values\n",
      "Age 0.295  % missing values\n",
      "Age1stCode 0.1018  % missing values\n",
      "CompFreq 0.3784  % missing values\n",
      "Country 0.006  % missing values\n",
      "DatabaseDesireNextYear 0.3163  % missing values\n",
      "DatabaseWorkedWith 0.2315  % missing values\n",
      "DevType 0.2341  % missing values\n",
      "EdLevel 0.1091  % missing values\n",
      "Employment 0.0094  % missing values\n",
      "Gender 0.2157  % missing values\n",
      "JobSat 0.2989  % missing values\n",
      "JobSeek 0.1975  % missing values\n",
      "LanguageWorkedWith 0.1099  % missing values\n",
      "NEWCollabToolsDesireNextYear 0.2664  % missing values\n",
      "NEWCollabToolsWorkedWith 0.1796  % missing values\n",
      "NEWDevOps 0.3378  % missing values\n",
      "NEWDevOpsImpt 0.3526  % missing values\n",
      "NEWEdImpt 0.2482  % missing values\n",
      "NEWLearn 0.1288  % missing values\n",
      "NEWOffTopic 0.2119  % missing values\n",
      "NEWOnboardGood 0.3388  % missing values\n",
      "NEWOtherComms 0.1126  % missing values\n",
      "NEWOvertime 0.3293  % missing values\n",
      "NEWPurpleLink 0.1498  % missing values\n",
      "OpSys 0.1277  % missing values\n",
      "PlatformDesireNextYear 0.215  % missing values\n",
      "PlatformWorkedWith 0.1647  % missing values\n",
      "PurchaseWhat 0.3893  % missing values\n",
      "SOAccount 0.1188  % missing values\n",
      "SOComm 0.1239  % missing values\n",
      "SOPartFreq 0.2741  % missing values\n",
      "SOVisitFreq 0.1162  % missing values\n",
      "Trans 0.2345  % missing values\n",
      "WebframeDesireNextYear 0.3791  % missing values\n",
      "WebframeWorkedWith 0.3441  % missing values\n",
      "WorkWeekHrs 0.3616  % missing values\n",
      "YearsCode 0.1051  % missing values\n",
      "YearsCodePro 0.281  % missing values\n"
     ]
    }
   ],
   "source": [
    "### Here we will check the percentage of nan values present in each feature\n",
    "features_with_na=[features for features in df1.columns if df1[features].isnull().sum()>1]\n",
    "\n",
    "for feature in features_with_na:\n",
    "    print(feature, np.round(df1[feature].isnull().mean(), 4),  ' % missing values')"
   ]
  },
  {
   "cell_type": "markdown",
   "id": "5d759ad9",
   "metadata": {},
   "source": [
    "**Checking the data types**"
   ]
  },
  {
   "cell_type": "code",
   "execution_count": 10,
   "id": "906786b3",
   "metadata": {},
   "outputs": [
    {
     "name": "stdout",
     "output_type": "stream",
     "text": [
      "<class 'pandas.core.frame.DataFrame'>\n",
      "RangeIndex: 64461 entries, 0 to 64460\n",
      "Data columns (total 40 columns):\n",
      " #   Column                        Non-Null Count  Dtype  \n",
      "---  ------                        --------------  -----  \n",
      " 0   MainBranch                    64162 non-null  object \n",
      " 1   Hobbyist                      64416 non-null  object \n",
      " 2   Age                           45446 non-null  float64\n",
      " 3   Age1stCode                    57900 non-null  object \n",
      " 4   CompFreq                      40069 non-null  object \n",
      " 5   Country                       64072 non-null  object \n",
      " 6   DatabaseDesireNextYear        44070 non-null  object \n",
      " 7   DatabaseWorkedWith            49537 non-null  object \n",
      " 8   DevType                       49370 non-null  object \n",
      " 9   EdLevel                       57431 non-null  object \n",
      " 10  Employment                    63854 non-null  object \n",
      " 11  Gender                        50557 non-null  object \n",
      " 12  JobSat                        45194 non-null  object \n",
      " 13  JobSeek                       51727 non-null  object \n",
      " 14  LanguageWorkedWith            57378 non-null  object \n",
      " 15  NEWCollabToolsDesireNextYear  47287 non-null  object \n",
      " 16  NEWCollabToolsWorkedWith      52883 non-null  object \n",
      " 17  NEWDevOps                     42686 non-null  object \n",
      " 18  NEWDevOpsImpt                 41732 non-null  object \n",
      " 19  NEWEdImpt                     48465 non-null  object \n",
      " 20  NEWLearn                      56156 non-null  object \n",
      " 21  NEWOffTopic                   50804 non-null  object \n",
      " 22  NEWOnboardGood                42623 non-null  object \n",
      " 23  NEWOtherComms                 57205 non-null  object \n",
      " 24  NEWOvertime                   43231 non-null  object \n",
      " 25  NEWPurpleLink                 54803 non-null  object \n",
      " 26  OpSys                         56228 non-null  object \n",
      " 27  PlatformDesireNextYear        50605 non-null  object \n",
      " 28  PlatformWorkedWith            53843 non-null  object \n",
      " 29  PurchaseWhat                  39364 non-null  object \n",
      " 30  SOAccount                     56805 non-null  object \n",
      " 31  SOComm                        56476 non-null  object \n",
      " 32  SOPartFreq                    46792 non-null  object \n",
      " 33  SOVisitFreq                   56970 non-null  object \n",
      " 34  Trans                         49345 non-null  object \n",
      " 35  WebframeDesireNextYear        40024 non-null  object \n",
      " 36  WebframeWorkedWith            42279 non-null  object \n",
      " 37  WorkWeekHrs                   41151 non-null  float64\n",
      " 38  YearsCode                     57684 non-null  object \n",
      " 39  YearsCodePro                  46349 non-null  object \n",
      "dtypes: float64(2), object(38)\n",
      "memory usage: 19.7+ MB\n"
     ]
    }
   ],
   "source": [
    "df1.info()"
   ]
  },
  {
   "cell_type": "code",
   "execution_count": 11,
   "id": "868b8869",
   "metadata": {},
   "outputs": [
    {
     "name": "stdout",
     "output_type": "stream",
     "text": [
      "'MainBranch': len of Unique 6 having type *object* has=> ['I am a developer by profession' 'I code primarily as a hobby'\n",
      " 'I used to be a developer by profession, but no longer am'\n",
      " 'I am not primarily a developer, but I write code sometimes as part of my work'\n",
      " 'I am a student who is learning to code' nan] unique values\n",
      "\n",
      "'Hobbyist': len of Unique 3 having type *object* has=> ['Yes' 'No' nan] unique values\n",
      "\n",
      "'Age': len of Unique 111 having type *float64* has=> [  nan  25.   31.   36.   30.   22.   23.   49.   53.   27.   45.   32.\n",
      "  24.   40.   18.   39.   29.   16.   34.   19.   35.   20.   38.   57.\n",
      "  28.   17.   44.   21.   48.   26.   42.   55.   37.   50.   41.   64.\n",
      "  63.   33.   43.   51.   60.   59.   62.   69.   52.   46.   49.5  56.\n",
      "  47.   15.   72.   13.   71.   54.   70.   11.   14.   61.   26.8  86.\n",
      "  58.   67.   94.   65.   66.   84.   73.   78.   68.   99.   74.   12.\n",
      "  77.   15.5  85.   76.   35.7  32.5  81.   23.8  97.   96.   26.5   3.\n",
      "  24.5  14.7  34.5   5.    1.   20.5  79.  279.   22.5  27.5  32.8  10.\n",
      "  89.   80.   98.   19.8   7.   21.5  31.5  88.   39.5  16.5  75.   83.\n",
      "  23.4  95.   14.5] unique values\n",
      "\n",
      "'Age1stCode': len of Unique 64 having type *object* has=> ['13' '19' '15' '18' '16' '14' '12' '20' '42' '8' '25' '22' '30' '17' '21'\n",
      " '10' '46' '9' '7' '11' '6' nan '31' '29' '5' 'Younger than 5 years' '28'\n",
      " '38' '23' '27' '41' '24' '53' '26' '35' '32' '40' '33' '36' '54' '48'\n",
      " '56' '45' '44' '34' 'Older than 85' '39' '51' '68' '50' '37' '47' '43'\n",
      " '52' '85' '64' '55' '58' '49' '76' '72' '73' '83' '63'] unique values\n",
      "\n",
      "'CompFreq': len of Unique 4 having type *object* has=> ['Monthly' nan 'Yearly' 'Weekly'] unique values\n",
      "\n",
      "'Country': len of Unique 184 having type *object* has=> ['Germany' 'United Kingdom' 'Russian Federation' 'Albania' 'United States'\n",
      " 'India' 'Tunisia' 'Spain' 'Netherlands' 'France' 'Belgium' 'Portugal'\n",
      " 'Canada' 'China' 'Ukraine' 'Italy' 'Brazil' 'Austria' 'Mexico' 'Sweden'\n",
      " 'Poland' 'Indonesia' 'Greece' 'Israel' 'Czech Republic'\n",
      " 'Bosnia and Herzegovina' 'Bulgaria' 'Serbia' 'Switzerland' 'Hungary'\n",
      " 'Nepal' 'Slovenia' 'Uruguay' 'Denmark' 'Pakistan' 'Taiwan' 'Romania'\n",
      " 'Finland' 'Costa Rica' 'Nigeria' 'Chile' 'Turkey' 'Panama' 'Ireland'\n",
      " 'Estonia' 'Philippines' 'Australia' 'Nomadic' 'Peru' 'Cyprus' 'Sri Lanka'\n",
      " 'Kenya' 'Norway' 'Kyrgyzstan' 'Iran' 'Croatia' 'Egypt' 'Argentina'\n",
      " 'Ghana' 'Latvia' 'Morocco' 'Bangladesh' 'Ecuador' 'Haiti'\n",
      " 'Venezuela, Bolivarian Republic of...' 'Colombia' 'Lithuania'\n",
      " 'El Salvador' 'Honduras' 'Ethiopia' 'Lebanon' 'Uganda' 'Algeria'\n",
      " 'Viet Nam' 'Guatemala' 'Syrian Arab Republic' 'Afghanistan' 'Slovakia'\n",
      " 'United Arab Emirates' 'Belarus' 'Sudan' 'South Africa' 'Jordan'\n",
      " 'Georgia' 'United Republic of Tanzania' 'Antigua and Barbuda'\n",
      " 'Saudi Arabia' 'New Zealand' 'Kuwait' 'Armenia' 'Republic of Moldova'\n",
      " 'Cuba' 'Luxembourg' 'Singapore' 'Azerbaijan' 'Dominican Republic'\n",
      " 'Iceland' 'Isle of Man' 'Uzbekistan' 'Trinidad and Tobago' 'Senegal'\n",
      " 'Andorra' 'Turkmenistan' 'Hong Kong (S.A.R.)' 'Benin' 'Bolivia'\n",
      " 'Republic of Korea' 'Japan' 'Malta' 'Iraq' 'South Korea' 'Paraguay'\n",
      " 'Malaysia' 'Thailand' 'Myanmar' 'Kazakhstan' 'Cambodia' 'Jamaica'\n",
      " 'Nicaragua' 'Maldives' 'Democratic Republic of the Congo'\n",
      " 'Papua New Guinea' 'Oman' 'The former Yugoslav Republic of Macedonia'\n",
      " 'Malawi' 'Qatar' 'Madagascar' 'Botswana' 'Angola' 'Montenegro' 'Yemen'\n",
      " 'Mongolia' 'Kosovo' 'Zambia' 'Zimbabwe' 'Libyan Arab Jamahiriya'\n",
      " 'Mozambique' 'Somalia' 'Eritrea' 'Namibia' 'Rwanda' 'Burkina Faso'\n",
      " 'Congo, Republic of the...' 'Swaziland' 'Bhutan' 'Cameroon' 'Bahrain'\n",
      " \"Côte d'Ivoire\" 'Sierra Leone' 'Togo' 'Niger' 'Barbados' 'Belize'\n",
      " 'Saint Vincent and the Grenadines' \"Lao People's Democratic Republic\"\n",
      " 'Tajikistan' 'Mauritius' 'Guinea' 'Brunei Darussalam' 'Bahamas'\n",
      " 'Mauritania' 'Saint Lucia' 'Djibouti' 'San Marino' 'Lesotho' 'Nauru' nan\n",
      " 'Burundi' 'Fiji' 'Kiribati' 'Grenada' 'Chad' 'Mali' 'Guyana'\n",
      " 'Micronesia, Federated States of...' 'Gambia' 'North Korea'\n",
      " 'Liechtenstein' 'Monaco' 'Timor-Leste' 'Solomon Islands' 'Cape Verde'\n",
      " 'Gabon' 'Marshall Islands'] unique values\n",
      "\n",
      "'DatabaseDesireNextYear': len of Unique 3194 having type *object* has=> ['Microsoft SQL Server' nan 'MySQL;PostgreSQL' ...\n",
      " 'Elasticsearch;MySQL;Oracle;Redis;SQLite'\n",
      " 'Couchbase;DynamoDB;Elasticsearch;Firebase;IBM DB2;Oracle;PostgreSQL'\n",
      " 'Elasticsearch;IBM DB2;Oracle'] unique values\n",
      "\n",
      "'DatabaseWorkedWith': len of Unique 2809 having type *object* has=> ['Elasticsearch;Microsoft SQL Server;Oracle' nan\n",
      " 'MySQL;PostgreSQL;Redis;SQLite' ...\n",
      " 'Cassandra;Couchbase;DynamoDB;IBM DB2;Oracle'\n",
      " 'Cassandra;Couchbase;DynamoDB;Firebase;IBM DB2'\n",
      " 'Firebase;IBM DB2;MariaDB;Microsoft SQL Server;MySQL;Oracle'] unique values\n",
      "\n",
      "'DevType': len of Unique 8270 having type *object* has=> ['Developer, desktop or enterprise applications;Developer, full-stack'\n",
      " 'Developer, full-stack;Developer, mobile' nan ...\n",
      " 'Data scientist or machine learning specialist;Database administrator;Developer, back-end;Developer, front-end;System administrator'\n",
      " 'Academic researcher;Data or business analyst;Data scientist or machine learning specialist;Database administrator;Designer;Developer, back-end;Developer, desktop or enterprise applications;Developer, embedded applications or devices;Developer, front-end;Developer, full-stack;Developer, game or graphics;Developer, mobile;Developer, QA or test;DevOps specialist;Senior executive/VP;System administrator'\n",
      " 'Data or business analyst;Developer, mobile;Senior executive/VP;System administrator'] unique values\n",
      "\n",
      "'EdLevel': len of Unique 10 having type *object* has=> ['Master’s degree (M.A., M.S., M.Eng., MBA, etc.)'\n",
      " 'Bachelor’s degree (B.A., B.S., B.Eng., etc.)' nan\n",
      " 'Secondary school (e.g. American high school, German Realschule or Gymnasium, etc.)'\n",
      " 'Professional degree (JD, MD, etc.)'\n",
      " 'Some college/university study without earning a degree'\n",
      " 'Associate degree (A.A., A.S., etc.)'\n",
      " 'Other doctoral degree (Ph.D., Ed.D., etc.)' 'Primary/elementary school'\n",
      " 'I never completed any formal education'] unique values\n",
      "\n",
      "'Employment': len of Unique 8 having type *object* has=> ['Independent contractor, freelancer, or self-employed'\n",
      " 'Employed full-time' nan 'Student' 'Not employed, but looking for work'\n",
      " 'Employed part-time' 'Retired' 'Not employed, and not looking for work'] unique values\n",
      "\n",
      "'Gender': len of Unique 8 having type *object* has=> ['Man' nan 'Woman' 'Man;Non-binary, genderqueer, or gender non-conforming'\n",
      " 'Non-binary, genderqueer, or gender non-conforming'\n",
      " 'Woman;Non-binary, genderqueer, or gender non-conforming'\n",
      " 'Woman;Man;Non-binary, genderqueer, or gender non-conforming' 'Woman;Man'] unique values\n",
      "\n",
      "'JobSat': len of Unique 6 having type *object* has=> ['Slightly satisfied' 'Very dissatisfied' nan 'Slightly dissatisfied'\n",
      " 'Very satisfied' 'Neither satisfied nor dissatisfied'] unique values\n",
      "\n",
      "'JobSeek': len of Unique 4 having type *object* has=> ['I am not interested in new job opportunities' nan\n",
      " 'I’m not actively looking, but I am open to new opportunities'\n",
      " 'I am actively looking for a job'] unique values\n",
      "\n",
      "'LanguageWorkedWith': len of Unique 14257 having type *object* has=> ['C#;HTML/CSS;JavaScript' 'JavaScript;Swift' 'Objective-C;Python;Swift'\n",
      " ...\n",
      " 'Bash/Shell/PowerShell;C;C++;Go;HTML/CSS;JavaScript;Kotlin;Python;Ruby;Rust;SQL'\n",
      " 'Bash/Shell/PowerShell;C#;C++;HTML/CSS;JavaScript;Kotlin;PHP;SQL;VBA'\n",
      " 'Bash/Shell/PowerShell;C;C#;C++;HTML/CSS;Java;JavaScript;Objective-C;Python;Swift'] unique values\n",
      "\n",
      "'NEWCollabToolsDesireNextYear': len of Unique 1278 having type *object* has=> ['Microsoft Teams;Microsoft Azure;Trello' 'Github;Slack' nan ...\n",
      " 'Jira;Github;Gitlab;Facebook Workplace;Trello;Stack Overflow for Teams'\n",
      " 'Gitlab;Facebook Workplace;Slack;Microsoft Teams;Microsoft Azure;Trello;Google Suite (Docs, Meet, etc);Stack Overflow for Teams'\n",
      " 'Github;Gitlab;Facebook Workplace;Slack;Microsoft Teams;Microsoft Azure;Google Suite (Docs, Meet, etc)'] unique values\n",
      "\n",
      "'NEWCollabToolsWorkedWith': len of Unique 1154 having type *object* has=> ['Confluence;Jira;Slack;Microsoft Azure;Trello'\n",
      " 'Confluence;Jira;Github;Gitlab;Slack' nan ...\n",
      " 'Confluence;Github;Facebook Workplace;Slack;Microsoft Teams;Microsoft Azure;Trello;Google Suite (Docs, Meet, etc);Stack Overflow for Teams'\n",
      " 'Facebook Workplace;Microsoft Teams;Trello;Google Suite (Docs, Meet, etc);Stack Overflow for Teams'\n",
      " 'Confluence;Github;Gitlab;Facebook Workplace;Slack;Microsoft Teams;Trello;Google Suite (Docs, Meet, etc);Stack Overflow for Teams'] unique values\n",
      "\n",
      "'NEWDevOps': len of Unique 4 having type *object* has=> ['No' nan 'Not sure' 'Yes'] unique values\n",
      "\n",
      "'NEWDevOpsImpt': len of Unique 6 having type *object* has=> ['Somewhat important' nan 'Extremely important' 'Neutral'\n",
      " 'Not at all important' 'Not very important'] unique values\n",
      "\n"
     ]
    },
    {
     "name": "stdout",
     "output_type": "stream",
     "text": [
      "'NEWEdImpt': len of Unique 6 having type *object* has=> ['Fairly important' nan 'Not at all important/not necessary'\n",
      " 'Very important' 'Somewhat important' 'Critically important'] unique values\n",
      "\n",
      "'NEWLearn': len of Unique 5 having type *object* has=> ['Once a year' 'Once a decade' 'Every few months' 'Once every few years'\n",
      " nan] unique values\n",
      "\n",
      "'NEWOffTopic': len of Unique 4 having type *object* has=> ['Not sure' nan 'No' 'Yes'] unique values\n",
      "\n",
      "'NEWOnboardGood': len of Unique 4 having type *object* has=> [nan 'Yes' 'No' 'Onboarding? What onboarding?'] unique values\n",
      "\n",
      "'NEWOtherComms': len of Unique 3 having type *object* has=> ['No' 'Yes' nan] unique values\n",
      "\n",
      "'NEWOvertime': len of Unique 6 having type *object* has=> ['Often: 1-2 days per week or more' nan\n",
      " 'Occasionally: 1-2 days per quarter but less than monthly' 'Never'\n",
      " 'Sometimes: 1-2 days per month but less than weekly'\n",
      " 'Rarely: 1-2 days per year or less'] unique values\n",
      "\n",
      "'NEWPurpleLink': len of Unique 5 having type *object* has=> ['Amused' nan 'Hello, old friend' 'Annoyed' 'Indifferent'] unique values\n",
      "\n",
      "'OpSys': len of Unique 5 having type *object* has=> ['Windows' 'MacOS' 'Linux-based' nan 'BSD'] unique values\n",
      "\n",
      "'PlatformDesireNextYear': len of Unique 7472 having type *object* has=> ['Android;iOS;Kubernetes;Microsoft Azure;Windows'\n",
      " 'iOS;Kubernetes;Linux;MacOS' nan ...\n",
      " 'AWS;IBM Cloud or Watson;Microsoft Azure;Slack Apps and Integrations;WordPress'\n",
      " 'Android;AWS;Google Cloud Platform;IBM Cloud or Watson;iOS;Linux;Microsoft Azure;Raspberry Pi;Slack Apps and Integrations;Windows'\n",
      " 'Arduino;MacOS;Windows'] unique values\n",
      "\n",
      "'PlatformWorkedWith': len of Unique 6288 having type *object* has=> ['Windows' 'iOS' nan ...\n",
      " 'Android;Google Cloud Platform;Heroku;iOS;Linux;MacOS'\n",
      " 'Android;Arduino;Docker;Google Cloud Platform;Heroku;iOS;Kubernetes;Linux;MacOS;Raspberry Pi;Windows'\n",
      " 'AWS;Google Cloud Platform;Heroku;iOS;Linux;MacOS;Microsoft Azure;WordPress'] unique values\n",
      "\n",
      "'PurchaseWhat': len of Unique 4 having type *object* has=> [nan 'I have little or no influence' 'I have a great deal of influence'\n",
      " 'I have some influence'] unique values\n",
      "\n",
      "'SOAccount': len of Unique 4 having type *object* has=> ['No' 'Yes' nan \"Not sure/can't remember\"] unique values\n",
      "\n",
      "'SOComm': len of Unique 7 having type *object* has=> ['No, not at all' 'Yes, definitely' 'Yes, somewhat' 'No, not really'\n",
      " 'Neutral' nan 'Not sure'] unique values\n",
      "\n",
      "'SOPartFreq': len of Unique 7 having type *object* has=> [nan 'Less than once per month or monthly'\n",
      " 'A few times per month or weekly' 'Multiple times per day'\n",
      " 'I have never participated in Q&A on Stack Overflow'\n",
      " 'A few times per week' 'Daily or almost daily'] unique values\n",
      "\n",
      "'SOVisitFreq': len of Unique 7 having type *object* has=> ['Multiple times per day' 'Daily or almost daily'\n",
      " 'A few times per month or weekly' 'A few times per week'\n",
      " 'I have never visited Stack Overflow (before today)' nan\n",
      " 'Less than once per month or monthly'] unique values\n",
      "\n",
      "'Trans': len of Unique 3 having type *object* has=> ['No' nan 'Yes'] unique values\n",
      "\n",
      "'WebframeDesireNextYear': len of Unique 3987 having type *object* has=> ['ASP.NET Core' nan 'Django;Ruby on Rails' ...\n",
      " 'Django;Express;Flask;Gatsby;jQuery;Laravel;React.js;Ruby on Rails;Spring;Vue.js'\n",
      " 'ASP.NET;ASP.NET Core;Flask;Gatsby;jQuery;React.js;Vue.js'\n",
      " 'Drupal;Flask;Gatsby;Spring;Vue.js'] unique values\n",
      "\n",
      "'WebframeWorkedWith': len of Unique 3790 having type *object* has=> ['ASP.NET;ASP.NET Core' nan 'Ruby on Rails' ...\n",
      " 'ASP.NET;ASP.NET Core;Flask;Gatsby;jQuery;React.js;Vue.js'\n",
      " 'Angular;Angular.js;ASP.NET;ASP.NET Core;Django;Express;jQuery;Laravel;React.js;Ruby on Rails;Symfony'\n",
      " 'ASP.NET;ASP.NET Core;Django;jQuery;Symfony;Vue.js'] unique values\n",
      "\n",
      "'WorkWeekHrs': len of Unique 158 having type *float64* has=> [ 50.                  nan  40.          39.          36.\n",
      "  45.          35.          42.          37.          30.\n",
      "   5.          43.          60.          24.          25.\n",
      "  16.          32.          38.          55.          20.\n",
      "  70.          37.5         47.          44.          72.\n",
      "   8.          12.          41.          90.          27.\n",
      "  48.           4.          22.          80.          10.\n",
      "  52.           8.5        120.           9.          15.\n",
      "  39.5          6.          54.          40.5         46.\n",
      "  18.         105.          42.5        375.          65.\n",
      "  11.          56.          75.          49.          95.\n",
      "  28.          35.5         33.          43.5          7.\n",
      "  98.         100.          38.5         21.          34.\n",
      "  68.          26.           2.         160.          85.\n",
      "  84.          51.          57.          63.           7.5\n",
      "  67.          45.5        168.          88.           1.\n",
      "  64.          78.          66.          37.22         3.\n",
      "  58.           8.3         36.5         19.          13.\n",
      "  38.4         59.         130.          33.75        29.\n",
      "  14.          29.4        150.          12.5         99.\n",
      " 140.          23.          41.5         53.         385.\n",
      "  25.5         96.         425.          17.          47.5\n",
      " 125.         408.          50.11111111  37.6         22.5\n",
      "  83.          45.6        126.         376.          31.\n",
      "  46.5        475.          61.           1.00112234  62.\n",
      " 110.          79.          36.35       112.           7.7\n",
      "  33.6         36.71        77.           9.5         81.\n",
      "  36.25        86.           9.15        22.8         38.75\n",
      "  34.5        144.          37.25         1.5         58.5\n",
      " 387.         145.         225.          42.4        108.\n",
      " 115.          73.          32.5         27.5         93.\n",
      "   9.3         69.          87.        ] unique values\n",
      "\n",
      "'YearsCode': len of Unique 53 having type *object* has=> ['36' '7' '4' '15' '6' '17' '8' '10' '35' '5' '37' '19' '9' '22' '30' '23'\n",
      " '20' '2' 'Less than 1 year' '3' '13' '25' '16' '43' '11' '38' '33' nan\n",
      " '24' '21' '12' '40' '27' '50' '46' '14' '18' '28' '32' '44' '26' '42'\n",
      " '31' '34' '29' '1' '39' '41' '45' 'More than 50 years' '47' '49' '48'] unique values\n",
      "\n",
      "'YearsCodePro': len of Unique 53 having type *object* has=> ['27' '4' nan '8' '13' '2' '7' '20' '1' '23' '3' '12' '17' '18' '10' '14'\n",
      " '29' '6' '28' '9' '15' '11' '16' '25' 'Less than 1 year' '5' '21' '19'\n",
      " '35' '24' '32' '22' '30' '38' '26' '40' '33' '31' 'More than 50 years'\n",
      " '34' '36' '39' '37' '41' '45' '47' '42' '46' '50' '43' '44' '48' '49'] unique values\n",
      "\n"
     ]
    }
   ],
   "source": [
    "### get length of unique values, data type and display each column unique values\n",
    "for col in df1.columns:\n",
    "    print(f\"'{col}': len of Unique {len(df1[col].unique())} having type *{df1[col].dtype}* has=> {df1[col].unique()} unique values\\n\")"
   ]
  },
  {
   "cell_type": "code",
   "execution_count": 12,
   "id": "5e4842d6",
   "metadata": {},
   "outputs": [],
   "source": [
    "### Converting to numeric\n",
    "df1['Age1stCode'] = pd.to_numeric(df1['Age1stCode'],errors=\"coerce\")\n",
    "df1['YearsCodePro'] = pd.to_numeric(df1['YearsCodePro'],errors=\"coerce\")\n",
    "df1['YearsCode'] = pd.to_numeric(df1['YearsCode'],errors=\"coerce\")"
   ]
  },
  {
   "cell_type": "code",
   "execution_count": 13,
   "id": "530fc421",
   "metadata": {},
   "outputs": [
    {
     "name": "stdout",
     "output_type": "stream",
     "text": [
      "'MainBranch': having type *object* has=> ['I am a developer by profession' 'I code primarily as a hobby'\n",
      " 'I used to be a developer by profession, but no longer am'\n",
      " 'I am not primarily a developer, but I write code sometimes as part of my work'\n",
      " 'I am a student who is learning to code' nan] unique values\n",
      "\n",
      "'Hobbyist': having type *object* has=> ['Yes' 'No' nan] unique values\n",
      "\n",
      "'Age': having type *float64* has=> [  nan  25.   31.   36.   30.   22.   23.   49.   53.   27.   45.   32.\n",
      "  24.   40.   18.   39.   29.   16.   34.   19.   35.   20.   38.   57.\n",
      "  28.   17.   44.   21.   48.   26.   42.   55.   37.   50.   41.   64.\n",
      "  63.   33.   43.   51.   60.   59.   62.   69.   52.   46.   49.5  56.\n",
      "  47.   15.   72.   13.   71.   54.   70.   11.   14.   61.   26.8  86.\n",
      "  58.   67.   94.   65.   66.   84.   73.   78.   68.   99.   74.   12.\n",
      "  77.   15.5  85.   76.   35.7  32.5  81.   23.8  97.   96.   26.5   3.\n",
      "  24.5  14.7  34.5   5.    1.   20.5  79.  279.   22.5  27.5  32.8  10.\n",
      "  89.   80.   98.   19.8   7.   21.5  31.5  88.   39.5  16.5  75.   83.\n",
      "  23.4  95.   14.5] unique values\n",
      "\n",
      "'Age1stCode': having type *float64* has=> [13. 19. 15. 18. 16. 14. 12. 20. 42.  8. 25. 22. 30. 17. 21. 10. 46.  9.\n",
      "  7. 11.  6. nan 31. 29.  5. 28. 38. 23. 27. 41. 24. 53. 26. 35. 32. 40.\n",
      " 33. 36. 54. 48. 56. 45. 44. 34. 39. 51. 68. 50. 37. 47. 43. 52. 85. 64.\n",
      " 55. 58. 49. 76. 72. 73. 83. 63.] unique values\n",
      "\n",
      "'CompFreq': having type *object* has=> ['Monthly' nan 'Yearly' 'Weekly'] unique values\n",
      "\n",
      "'Country': having type *object* has=> ['Germany' 'United Kingdom' 'Russian Federation' 'Albania' 'United States'\n",
      " 'India' 'Tunisia' 'Spain' 'Netherlands' 'France' 'Belgium' 'Portugal'\n",
      " 'Canada' 'China' 'Ukraine' 'Italy' 'Brazil' 'Austria' 'Mexico' 'Sweden'\n",
      " 'Poland' 'Indonesia' 'Greece' 'Israel' 'Czech Republic'\n",
      " 'Bosnia and Herzegovina' 'Bulgaria' 'Serbia' 'Switzerland' 'Hungary'\n",
      " 'Nepal' 'Slovenia' 'Uruguay' 'Denmark' 'Pakistan' 'Taiwan' 'Romania'\n",
      " 'Finland' 'Costa Rica' 'Nigeria' 'Chile' 'Turkey' 'Panama' 'Ireland'\n",
      " 'Estonia' 'Philippines' 'Australia' 'Nomadic' 'Peru' 'Cyprus' 'Sri Lanka'\n",
      " 'Kenya' 'Norway' 'Kyrgyzstan' 'Iran' 'Croatia' 'Egypt' 'Argentina'\n",
      " 'Ghana' 'Latvia' 'Morocco' 'Bangladesh' 'Ecuador' 'Haiti'\n",
      " 'Venezuela, Bolivarian Republic of...' 'Colombia' 'Lithuania'\n",
      " 'El Salvador' 'Honduras' 'Ethiopia' 'Lebanon' 'Uganda' 'Algeria'\n",
      " 'Viet Nam' 'Guatemala' 'Syrian Arab Republic' 'Afghanistan' 'Slovakia'\n",
      " 'United Arab Emirates' 'Belarus' 'Sudan' 'South Africa' 'Jordan'\n",
      " 'Georgia' 'United Republic of Tanzania' 'Antigua and Barbuda'\n",
      " 'Saudi Arabia' 'New Zealand' 'Kuwait' 'Armenia' 'Republic of Moldova'\n",
      " 'Cuba' 'Luxembourg' 'Singapore' 'Azerbaijan' 'Dominican Republic'\n",
      " 'Iceland' 'Isle of Man' 'Uzbekistan' 'Trinidad and Tobago' 'Senegal'\n",
      " 'Andorra' 'Turkmenistan' 'Hong Kong (S.A.R.)' 'Benin' 'Bolivia'\n",
      " 'Republic of Korea' 'Japan' 'Malta' 'Iraq' 'South Korea' 'Paraguay'\n",
      " 'Malaysia' 'Thailand' 'Myanmar' 'Kazakhstan' 'Cambodia' 'Jamaica'\n",
      " 'Nicaragua' 'Maldives' 'Democratic Republic of the Congo'\n",
      " 'Papua New Guinea' 'Oman' 'The former Yugoslav Republic of Macedonia'\n",
      " 'Malawi' 'Qatar' 'Madagascar' 'Botswana' 'Angola' 'Montenegro' 'Yemen'\n",
      " 'Mongolia' 'Kosovo' 'Zambia' 'Zimbabwe' 'Libyan Arab Jamahiriya'\n",
      " 'Mozambique' 'Somalia' 'Eritrea' 'Namibia' 'Rwanda' 'Burkina Faso'\n",
      " 'Congo, Republic of the...' 'Swaziland' 'Bhutan' 'Cameroon' 'Bahrain'\n",
      " \"Côte d'Ivoire\" 'Sierra Leone' 'Togo' 'Niger' 'Barbados' 'Belize'\n",
      " 'Saint Vincent and the Grenadines' \"Lao People's Democratic Republic\"\n",
      " 'Tajikistan' 'Mauritius' 'Guinea' 'Brunei Darussalam' 'Bahamas'\n",
      " 'Mauritania' 'Saint Lucia' 'Djibouti' 'San Marino' 'Lesotho' 'Nauru' nan\n",
      " 'Burundi' 'Fiji' 'Kiribati' 'Grenada' 'Chad' 'Mali' 'Guyana'\n",
      " 'Micronesia, Federated States of...' 'Gambia' 'North Korea'\n",
      " 'Liechtenstein' 'Monaco' 'Timor-Leste' 'Solomon Islands' 'Cape Verde'\n",
      " 'Gabon' 'Marshall Islands'] unique values\n",
      "\n",
      "'DatabaseDesireNextYear': having type *object* has=> ['Microsoft SQL Server' nan 'MySQL;PostgreSQL' ...\n",
      " 'Elasticsearch;MySQL;Oracle;Redis;SQLite'\n",
      " 'Couchbase;DynamoDB;Elasticsearch;Firebase;IBM DB2;Oracle;PostgreSQL'\n",
      " 'Elasticsearch;IBM DB2;Oracle'] unique values\n",
      "\n",
      "'DatabaseWorkedWith': having type *object* has=> ['Elasticsearch;Microsoft SQL Server;Oracle' nan\n",
      " 'MySQL;PostgreSQL;Redis;SQLite' ...\n",
      " 'Cassandra;Couchbase;DynamoDB;IBM DB2;Oracle'\n",
      " 'Cassandra;Couchbase;DynamoDB;Firebase;IBM DB2'\n",
      " 'Firebase;IBM DB2;MariaDB;Microsoft SQL Server;MySQL;Oracle'] unique values\n",
      "\n",
      "'DevType': having type *object* has=> ['Developer, desktop or enterprise applications;Developer, full-stack'\n",
      " 'Developer, full-stack;Developer, mobile' nan ...\n",
      " 'Data scientist or machine learning specialist;Database administrator;Developer, back-end;Developer, front-end;System administrator'\n",
      " 'Academic researcher;Data or business analyst;Data scientist or machine learning specialist;Database administrator;Designer;Developer, back-end;Developer, desktop or enterprise applications;Developer, embedded applications or devices;Developer, front-end;Developer, full-stack;Developer, game or graphics;Developer, mobile;Developer, QA or test;DevOps specialist;Senior executive/VP;System administrator'\n",
      " 'Data or business analyst;Developer, mobile;Senior executive/VP;System administrator'] unique values\n",
      "\n",
      "'EdLevel': having type *object* has=> ['Master’s degree (M.A., M.S., M.Eng., MBA, etc.)'\n",
      " 'Bachelor’s degree (B.A., B.S., B.Eng., etc.)' nan\n",
      " 'Secondary school (e.g. American high school, German Realschule or Gymnasium, etc.)'\n",
      " 'Professional degree (JD, MD, etc.)'\n",
      " 'Some college/university study without earning a degree'\n",
      " 'Associate degree (A.A., A.S., etc.)'\n",
      " 'Other doctoral degree (Ph.D., Ed.D., etc.)' 'Primary/elementary school'\n",
      " 'I never completed any formal education'] unique values\n",
      "\n",
      "'Employment': having type *object* has=> ['Independent contractor, freelancer, or self-employed'\n",
      " 'Employed full-time' nan 'Student' 'Not employed, but looking for work'\n",
      " 'Employed part-time' 'Retired' 'Not employed, and not looking for work'] unique values\n",
      "\n",
      "'Gender': having type *object* has=> ['Man' nan 'Woman' 'Man;Non-binary, genderqueer, or gender non-conforming'\n",
      " 'Non-binary, genderqueer, or gender non-conforming'\n",
      " 'Woman;Non-binary, genderqueer, or gender non-conforming'\n",
      " 'Woman;Man;Non-binary, genderqueer, or gender non-conforming' 'Woman;Man'] unique values\n",
      "\n",
      "'JobSat': having type *object* has=> ['Slightly satisfied' 'Very dissatisfied' nan 'Slightly dissatisfied'\n",
      " 'Very satisfied' 'Neither satisfied nor dissatisfied'] unique values\n",
      "\n",
      "'JobSeek': having type *object* has=> ['I am not interested in new job opportunities' nan\n",
      " 'I’m not actively looking, but I am open to new opportunities'\n",
      " 'I am actively looking for a job'] unique values\n",
      "\n",
      "'LanguageWorkedWith': having type *object* has=> ['C#;HTML/CSS;JavaScript' 'JavaScript;Swift' 'Objective-C;Python;Swift'\n",
      " ...\n",
      " 'Bash/Shell/PowerShell;C;C++;Go;HTML/CSS;JavaScript;Kotlin;Python;Ruby;Rust;SQL'\n",
      " 'Bash/Shell/PowerShell;C#;C++;HTML/CSS;JavaScript;Kotlin;PHP;SQL;VBA'\n",
      " 'Bash/Shell/PowerShell;C;C#;C++;HTML/CSS;Java;JavaScript;Objective-C;Python;Swift'] unique values\n",
      "\n",
      "'NEWCollabToolsDesireNextYear': having type *object* has=> ['Microsoft Teams;Microsoft Azure;Trello' 'Github;Slack' nan ...\n",
      " 'Jira;Github;Gitlab;Facebook Workplace;Trello;Stack Overflow for Teams'\n",
      " 'Gitlab;Facebook Workplace;Slack;Microsoft Teams;Microsoft Azure;Trello;Google Suite (Docs, Meet, etc);Stack Overflow for Teams'\n",
      " 'Github;Gitlab;Facebook Workplace;Slack;Microsoft Teams;Microsoft Azure;Google Suite (Docs, Meet, etc)'] unique values\n",
      "\n",
      "'NEWCollabToolsWorkedWith': having type *object* has=> ['Confluence;Jira;Slack;Microsoft Azure;Trello'\n",
      " 'Confluence;Jira;Github;Gitlab;Slack' nan ...\n",
      " 'Confluence;Github;Facebook Workplace;Slack;Microsoft Teams;Microsoft Azure;Trello;Google Suite (Docs, Meet, etc);Stack Overflow for Teams'\n",
      " 'Facebook Workplace;Microsoft Teams;Trello;Google Suite (Docs, Meet, etc);Stack Overflow for Teams'\n",
      " 'Confluence;Github;Gitlab;Facebook Workplace;Slack;Microsoft Teams;Trello;Google Suite (Docs, Meet, etc);Stack Overflow for Teams'] unique values\n",
      "\n",
      "'NEWDevOps': having type *object* has=> ['No' nan 'Not sure' 'Yes'] unique values\n",
      "\n",
      "'NEWDevOpsImpt': having type *object* has=> ['Somewhat important' nan 'Extremely important' 'Neutral'\n",
      " 'Not at all important' 'Not very important'] unique values\n",
      "\n",
      "'NEWEdImpt': having type *object* has=> ['Fairly important' nan 'Not at all important/not necessary'\n",
      " 'Very important' 'Somewhat important' 'Critically important'] unique values\n",
      "\n",
      "'NEWLearn': having type *object* has=> ['Once a year' 'Once a decade' 'Every few months' 'Once every few years'\n",
      " nan] unique values\n",
      "\n",
      "'NEWOffTopic': having type *object* has=> ['Not sure' nan 'No' 'Yes'] unique values\n",
      "\n",
      "'NEWOnboardGood': having type *object* has=> [nan 'Yes' 'No' 'Onboarding? What onboarding?'] unique values\n",
      "\n",
      "'NEWOtherComms': having type *object* has=> ['No' 'Yes' nan] unique values\n",
      "\n",
      "'NEWOvertime': having type *object* has=> ['Often: 1-2 days per week or more' nan\n",
      " 'Occasionally: 1-2 days per quarter but less than monthly' 'Never'\n",
      " 'Sometimes: 1-2 days per month but less than weekly'\n",
      " 'Rarely: 1-2 days per year or less'] unique values\n",
      "\n",
      "'NEWPurpleLink': having type *object* has=> ['Amused' nan 'Hello, old friend' 'Annoyed' 'Indifferent'] unique values\n",
      "\n",
      "'OpSys': having type *object* has=> ['Windows' 'MacOS' 'Linux-based' nan 'BSD'] unique values\n",
      "\n",
      "'PlatformDesireNextYear': having type *object* has=> ['Android;iOS;Kubernetes;Microsoft Azure;Windows'\n",
      " 'iOS;Kubernetes;Linux;MacOS' nan ...\n",
      " 'AWS;IBM Cloud or Watson;Microsoft Azure;Slack Apps and Integrations;WordPress'\n",
      " 'Android;AWS;Google Cloud Platform;IBM Cloud or Watson;iOS;Linux;Microsoft Azure;Raspberry Pi;Slack Apps and Integrations;Windows'\n",
      " 'Arduino;MacOS;Windows'] unique values\n",
      "\n",
      "'PlatformWorkedWith': having type *object* has=> ['Windows' 'iOS' nan ...\n",
      " 'Android;Google Cloud Platform;Heroku;iOS;Linux;MacOS'\n",
      " 'Android;Arduino;Docker;Google Cloud Platform;Heroku;iOS;Kubernetes;Linux;MacOS;Raspberry Pi;Windows'\n",
      " 'AWS;Google Cloud Platform;Heroku;iOS;Linux;MacOS;Microsoft Azure;WordPress'] unique values\n",
      "\n",
      "'PurchaseWhat': having type *object* has=> [nan 'I have little or no influence' 'I have a great deal of influence'\n",
      " 'I have some influence'] unique values\n",
      "\n",
      "'SOAccount': having type *object* has=> ['No' 'Yes' nan \"Not sure/can't remember\"] unique values\n",
      "\n",
      "'SOComm': having type *object* has=> ['No, not at all' 'Yes, definitely' 'Yes, somewhat' 'No, not really'\n",
      " 'Neutral' nan 'Not sure'] unique values\n",
      "\n",
      "'SOPartFreq': having type *object* has=> [nan 'Less than once per month or monthly'\n",
      " 'A few times per month or weekly' 'Multiple times per day'\n",
      " 'I have never participated in Q&A on Stack Overflow'\n",
      " 'A few times per week' 'Daily or almost daily'] unique values\n",
      "\n",
      "'SOVisitFreq': having type *object* has=> ['Multiple times per day' 'Daily or almost daily'\n",
      " 'A few times per month or weekly' 'A few times per week'\n",
      " 'I have never visited Stack Overflow (before today)' nan\n",
      " 'Less than once per month or monthly'] unique values\n",
      "\n",
      "'Trans': having type *object* has=> ['No' nan 'Yes'] unique values\n",
      "\n",
      "'WebframeDesireNextYear': having type *object* has=> ['ASP.NET Core' nan 'Django;Ruby on Rails' ...\n",
      " 'Django;Express;Flask;Gatsby;jQuery;Laravel;React.js;Ruby on Rails;Spring;Vue.js'\n",
      " 'ASP.NET;ASP.NET Core;Flask;Gatsby;jQuery;React.js;Vue.js'\n",
      " 'Drupal;Flask;Gatsby;Spring;Vue.js'] unique values\n",
      "\n"
     ]
    },
    {
     "name": "stdout",
     "output_type": "stream",
     "text": [
      "'WebframeWorkedWith': having type *object* has=> ['ASP.NET;ASP.NET Core' nan 'Ruby on Rails' ...\n",
      " 'ASP.NET;ASP.NET Core;Flask;Gatsby;jQuery;React.js;Vue.js'\n",
      " 'Angular;Angular.js;ASP.NET;ASP.NET Core;Django;Express;jQuery;Laravel;React.js;Ruby on Rails;Symfony'\n",
      " 'ASP.NET;ASP.NET Core;Django;jQuery;Symfony;Vue.js'] unique values\n",
      "\n",
      "'WorkWeekHrs': having type *float64* has=> [ 50.                  nan  40.          39.          36.\n",
      "  45.          35.          42.          37.          30.\n",
      "   5.          43.          60.          24.          25.\n",
      "  16.          32.          38.          55.          20.\n",
      "  70.          37.5         47.          44.          72.\n",
      "   8.          12.          41.          90.          27.\n",
      "  48.           4.          22.          80.          10.\n",
      "  52.           8.5        120.           9.          15.\n",
      "  39.5          6.          54.          40.5         46.\n",
      "  18.         105.          42.5        375.          65.\n",
      "  11.          56.          75.          49.          95.\n",
      "  28.          35.5         33.          43.5          7.\n",
      "  98.         100.          38.5         21.          34.\n",
      "  68.          26.           2.         160.          85.\n",
      "  84.          51.          57.          63.           7.5\n",
      "  67.          45.5        168.          88.           1.\n",
      "  64.          78.          66.          37.22         3.\n",
      "  58.           8.3         36.5         19.          13.\n",
      "  38.4         59.         130.          33.75        29.\n",
      "  14.          29.4        150.          12.5         99.\n",
      " 140.          23.          41.5         53.         385.\n",
      "  25.5         96.         425.          17.          47.5\n",
      " 125.         408.          50.11111111  37.6         22.5\n",
      "  83.          45.6        126.         376.          31.\n",
      "  46.5        475.          61.           1.00112234  62.\n",
      " 110.          79.          36.35       112.           7.7\n",
      "  33.6         36.71        77.           9.5         81.\n",
      "  36.25        86.           9.15        22.8         38.75\n",
      "  34.5        144.          37.25         1.5         58.5\n",
      " 387.         145.         225.          42.4        108.\n",
      " 115.          73.          32.5         27.5         93.\n",
      "   9.3         69.          87.        ] unique values\n",
      "\n",
      "'YearsCode': having type *float64* has=> [36.  7.  4. 15.  6. 17.  8. 10. 35.  5. 37. 19.  9. 22. 30. 23. 20.  2.\n",
      " nan  3. 13. 25. 16. 43. 11. 38. 33. 24. 21. 12. 40. 27. 50. 46. 14. 18.\n",
      " 28. 32. 44. 26. 42. 31. 34. 29.  1. 39. 41. 45. 47. 49. 48.] unique values\n",
      "\n",
      "'YearsCodePro': having type *float64* has=> [27.  4. nan  8. 13.  2.  7. 20.  1. 23.  3. 12. 17. 18. 10. 14. 29.  6.\n",
      " 28.  9. 15. 11. 16. 25.  5. 21. 19. 35. 24. 32. 22. 30. 38. 26. 40. 33.\n",
      " 31. 34. 36. 39. 37. 41. 45. 47. 42. 46. 50. 43. 44. 48. 49.] unique values\n",
      "\n"
     ]
    }
   ],
   "source": [
    "for col in df1.columns:\n",
    "    print(f\"'{col}': having type *{df1[col].dtype}* has=> {df1[col].unique()} unique values\\n\")"
   ]
  },
  {
   "cell_type": "markdown",
   "id": "591374c1",
   "metadata": {},
   "source": [
    "**list of categorical variables**"
   ]
  },
  {
   "cell_type": "code",
   "execution_count": 14,
   "id": "12d25acc",
   "metadata": {},
   "outputs": [
    {
     "name": "stdout",
     "output_type": "stream",
     "text": [
      "Number of cat variables:  35\n",
      "MainBranch, ['I am a developer by profession' 'I code primarily as a hobby'\n",
      " 'I used to be a developer by profession, but no longer am'\n",
      " 'I am not primarily a developer, but I write code sometimes as part of my work'\n",
      " 'I am a student who is learning to code' nan]\n",
      "\n",
      "Hobbyist, ['Yes' 'No' nan]\n",
      "\n",
      "CompFreq, ['Monthly' nan 'Yearly' 'Weekly']\n",
      "\n",
      "Country, ['Germany' 'United Kingdom' 'Russian Federation' 'Albania' 'United States'\n",
      " 'India' 'Tunisia' 'Spain' 'Netherlands' 'France' 'Belgium' 'Portugal'\n",
      " 'Canada' 'China' 'Ukraine' 'Italy' 'Brazil' 'Austria' 'Mexico' 'Sweden'\n",
      " 'Poland' 'Indonesia' 'Greece' 'Israel' 'Czech Republic'\n",
      " 'Bosnia and Herzegovina' 'Bulgaria' 'Serbia' 'Switzerland' 'Hungary'\n",
      " 'Nepal' 'Slovenia' 'Uruguay' 'Denmark' 'Pakistan' 'Taiwan' 'Romania'\n",
      " 'Finland' 'Costa Rica' 'Nigeria' 'Chile' 'Turkey' 'Panama' 'Ireland'\n",
      " 'Estonia' 'Philippines' 'Australia' 'Nomadic' 'Peru' 'Cyprus' 'Sri Lanka'\n",
      " 'Kenya' 'Norway' 'Kyrgyzstan' 'Iran' 'Croatia' 'Egypt' 'Argentina'\n",
      " 'Ghana' 'Latvia' 'Morocco' 'Bangladesh' 'Ecuador' 'Haiti'\n",
      " 'Venezuela, Bolivarian Republic of...' 'Colombia' 'Lithuania'\n",
      " 'El Salvador' 'Honduras' 'Ethiopia' 'Lebanon' 'Uganda' 'Algeria'\n",
      " 'Viet Nam' 'Guatemala' 'Syrian Arab Republic' 'Afghanistan' 'Slovakia'\n",
      " 'United Arab Emirates' 'Belarus' 'Sudan' 'South Africa' 'Jordan'\n",
      " 'Georgia' 'United Republic of Tanzania' 'Antigua and Barbuda'\n",
      " 'Saudi Arabia' 'New Zealand' 'Kuwait' 'Armenia' 'Republic of Moldova'\n",
      " 'Cuba' 'Luxembourg' 'Singapore' 'Azerbaijan' 'Dominican Republic'\n",
      " 'Iceland' 'Isle of Man' 'Uzbekistan' 'Trinidad and Tobago' 'Senegal'\n",
      " 'Andorra' 'Turkmenistan' 'Hong Kong (S.A.R.)' 'Benin' 'Bolivia'\n",
      " 'Republic of Korea' 'Japan' 'Malta' 'Iraq' 'South Korea' 'Paraguay'\n",
      " 'Malaysia' 'Thailand' 'Myanmar' 'Kazakhstan' 'Cambodia' 'Jamaica'\n",
      " 'Nicaragua' 'Maldives' 'Democratic Republic of the Congo'\n",
      " 'Papua New Guinea' 'Oman' 'The former Yugoslav Republic of Macedonia'\n",
      " 'Malawi' 'Qatar' 'Madagascar' 'Botswana' 'Angola' 'Montenegro' 'Yemen'\n",
      " 'Mongolia' 'Kosovo' 'Zambia' 'Zimbabwe' 'Libyan Arab Jamahiriya'\n",
      " 'Mozambique' 'Somalia' 'Eritrea' 'Namibia' 'Rwanda' 'Burkina Faso'\n",
      " 'Congo, Republic of the...' 'Swaziland' 'Bhutan' 'Cameroon' 'Bahrain'\n",
      " \"Côte d'Ivoire\" 'Sierra Leone' 'Togo' 'Niger' 'Barbados' 'Belize'\n",
      " 'Saint Vincent and the Grenadines' \"Lao People's Democratic Republic\"\n",
      " 'Tajikistan' 'Mauritius' 'Guinea' 'Brunei Darussalam' 'Bahamas'\n",
      " 'Mauritania' 'Saint Lucia' 'Djibouti' 'San Marino' 'Lesotho' 'Nauru' nan\n",
      " 'Burundi' 'Fiji' 'Kiribati' 'Grenada' 'Chad' 'Mali' 'Guyana'\n",
      " 'Micronesia, Federated States of...' 'Gambia' 'North Korea'\n",
      " 'Liechtenstein' 'Monaco' 'Timor-Leste' 'Solomon Islands' 'Cape Verde'\n",
      " 'Gabon' 'Marshall Islands']\n",
      "\n",
      "DatabaseDesireNextYear, ['Microsoft SQL Server' nan 'MySQL;PostgreSQL' ...\n",
      " 'Elasticsearch;MySQL;Oracle;Redis;SQLite'\n",
      " 'Couchbase;DynamoDB;Elasticsearch;Firebase;IBM DB2;Oracle;PostgreSQL'\n",
      " 'Elasticsearch;IBM DB2;Oracle']\n",
      "\n",
      "DatabaseWorkedWith, ['Elasticsearch;Microsoft SQL Server;Oracle' nan\n",
      " 'MySQL;PostgreSQL;Redis;SQLite' ...\n",
      " 'Cassandra;Couchbase;DynamoDB;IBM DB2;Oracle'\n",
      " 'Cassandra;Couchbase;DynamoDB;Firebase;IBM DB2'\n",
      " 'Firebase;IBM DB2;MariaDB;Microsoft SQL Server;MySQL;Oracle']\n",
      "\n",
      "DevType, ['Developer, desktop or enterprise applications;Developer, full-stack'\n",
      " 'Developer, full-stack;Developer, mobile' nan ...\n",
      " 'Data scientist or machine learning specialist;Database administrator;Developer, back-end;Developer, front-end;System administrator'\n",
      " 'Academic researcher;Data or business analyst;Data scientist or machine learning specialist;Database administrator;Designer;Developer, back-end;Developer, desktop or enterprise applications;Developer, embedded applications or devices;Developer, front-end;Developer, full-stack;Developer, game or graphics;Developer, mobile;Developer, QA or test;DevOps specialist;Senior executive/VP;System administrator'\n",
      " 'Data or business analyst;Developer, mobile;Senior executive/VP;System administrator']\n",
      "\n",
      "EdLevel, ['Master’s degree (M.A., M.S., M.Eng., MBA, etc.)'\n",
      " 'Bachelor’s degree (B.A., B.S., B.Eng., etc.)' nan\n",
      " 'Secondary school (e.g. American high school, German Realschule or Gymnasium, etc.)'\n",
      " 'Professional degree (JD, MD, etc.)'\n",
      " 'Some college/university study without earning a degree'\n",
      " 'Associate degree (A.A., A.S., etc.)'\n",
      " 'Other doctoral degree (Ph.D., Ed.D., etc.)' 'Primary/elementary school'\n",
      " 'I never completed any formal education']\n",
      "\n",
      "Employment, ['Independent contractor, freelancer, or self-employed'\n",
      " 'Employed full-time' nan 'Student' 'Not employed, but looking for work'\n",
      " 'Employed part-time' 'Retired' 'Not employed, and not looking for work']\n",
      "\n",
      "Gender, ['Man' nan 'Woman' 'Man;Non-binary, genderqueer, or gender non-conforming'\n",
      " 'Non-binary, genderqueer, or gender non-conforming'\n",
      " 'Woman;Non-binary, genderqueer, or gender non-conforming'\n",
      " 'Woman;Man;Non-binary, genderqueer, or gender non-conforming' 'Woman;Man']\n",
      "\n",
      "JobSat, ['Slightly satisfied' 'Very dissatisfied' nan 'Slightly dissatisfied'\n",
      " 'Very satisfied' 'Neither satisfied nor dissatisfied']\n",
      "\n",
      "JobSeek, ['I am not interested in new job opportunities' nan\n",
      " 'I’m not actively looking, but I am open to new opportunities'\n",
      " 'I am actively looking for a job']\n",
      "\n",
      "LanguageWorkedWith, ['C#;HTML/CSS;JavaScript' 'JavaScript;Swift' 'Objective-C;Python;Swift'\n",
      " ...\n",
      " 'Bash/Shell/PowerShell;C;C++;Go;HTML/CSS;JavaScript;Kotlin;Python;Ruby;Rust;SQL'\n",
      " 'Bash/Shell/PowerShell;C#;C++;HTML/CSS;JavaScript;Kotlin;PHP;SQL;VBA'\n",
      " 'Bash/Shell/PowerShell;C;C#;C++;HTML/CSS;Java;JavaScript;Objective-C;Python;Swift']\n",
      "\n",
      "NEWCollabToolsDesireNextYear, ['Microsoft Teams;Microsoft Azure;Trello' 'Github;Slack' nan ...\n",
      " 'Jira;Github;Gitlab;Facebook Workplace;Trello;Stack Overflow for Teams'\n",
      " 'Gitlab;Facebook Workplace;Slack;Microsoft Teams;Microsoft Azure;Trello;Google Suite (Docs, Meet, etc);Stack Overflow for Teams'\n",
      " 'Github;Gitlab;Facebook Workplace;Slack;Microsoft Teams;Microsoft Azure;Google Suite (Docs, Meet, etc)']\n",
      "\n",
      "NEWCollabToolsWorkedWith, ['Confluence;Jira;Slack;Microsoft Azure;Trello'\n",
      " 'Confluence;Jira;Github;Gitlab;Slack' nan ...\n",
      " 'Confluence;Github;Facebook Workplace;Slack;Microsoft Teams;Microsoft Azure;Trello;Google Suite (Docs, Meet, etc);Stack Overflow for Teams'\n",
      " 'Facebook Workplace;Microsoft Teams;Trello;Google Suite (Docs, Meet, etc);Stack Overflow for Teams'\n",
      " 'Confluence;Github;Gitlab;Facebook Workplace;Slack;Microsoft Teams;Trello;Google Suite (Docs, Meet, etc);Stack Overflow for Teams']\n",
      "\n",
      "NEWDevOps, ['No' nan 'Not sure' 'Yes']\n",
      "\n",
      "NEWDevOpsImpt, ['Somewhat important' nan 'Extremely important' 'Neutral'\n",
      " 'Not at all important' 'Not very important']\n",
      "\n",
      "NEWEdImpt, ['Fairly important' nan 'Not at all important/not necessary'\n",
      " 'Very important' 'Somewhat important' 'Critically important']\n",
      "\n",
      "NEWLearn, ['Once a year' 'Once a decade' 'Every few months' 'Once every few years'\n",
      " nan]\n",
      "\n",
      "NEWOffTopic, ['Not sure' nan 'No' 'Yes']\n",
      "\n",
      "NEWOnboardGood, [nan 'Yes' 'No' 'Onboarding? What onboarding?']\n",
      "\n",
      "NEWOtherComms, ['No' 'Yes' nan]\n",
      "\n",
      "NEWOvertime, ['Often: 1-2 days per week or more' nan\n",
      " 'Occasionally: 1-2 days per quarter but less than monthly' 'Never'\n",
      " 'Sometimes: 1-2 days per month but less than weekly'\n",
      " 'Rarely: 1-2 days per year or less']\n",
      "\n",
      "NEWPurpleLink, ['Amused' nan 'Hello, old friend' 'Annoyed' 'Indifferent']\n",
      "\n",
      "OpSys, ['Windows' 'MacOS' 'Linux-based' nan 'BSD']\n",
      "\n",
      "PlatformDesireNextYear, ['Android;iOS;Kubernetes;Microsoft Azure;Windows'\n",
      " 'iOS;Kubernetes;Linux;MacOS' nan ...\n",
      " 'AWS;IBM Cloud or Watson;Microsoft Azure;Slack Apps and Integrations;WordPress'\n",
      " 'Android;AWS;Google Cloud Platform;IBM Cloud or Watson;iOS;Linux;Microsoft Azure;Raspberry Pi;Slack Apps and Integrations;Windows'\n",
      " 'Arduino;MacOS;Windows']\n",
      "\n",
      "PlatformWorkedWith, ['Windows' 'iOS' nan ...\n",
      " 'Android;Google Cloud Platform;Heroku;iOS;Linux;MacOS'\n",
      " 'Android;Arduino;Docker;Google Cloud Platform;Heroku;iOS;Kubernetes;Linux;MacOS;Raspberry Pi;Windows'\n",
      " 'AWS;Google Cloud Platform;Heroku;iOS;Linux;MacOS;Microsoft Azure;WordPress']\n",
      "\n",
      "PurchaseWhat, [nan 'I have little or no influence' 'I have a great deal of influence'\n",
      " 'I have some influence']\n",
      "\n",
      "SOAccount, ['No' 'Yes' nan \"Not sure/can't remember\"]\n",
      "\n",
      "SOComm, ['No, not at all' 'Yes, definitely' 'Yes, somewhat' 'No, not really'\n",
      " 'Neutral' nan 'Not sure']\n",
      "\n",
      "SOPartFreq, [nan 'Less than once per month or monthly'\n",
      " 'A few times per month or weekly' 'Multiple times per day'\n",
      " 'I have never participated in Q&A on Stack Overflow'\n",
      " 'A few times per week' 'Daily or almost daily']\n",
      "\n",
      "SOVisitFreq, ['Multiple times per day' 'Daily or almost daily'\n",
      " 'A few times per month or weekly' 'A few times per week'\n",
      " 'I have never visited Stack Overflow (before today)' nan\n",
      " 'Less than once per month or monthly']\n",
      "\n",
      "Trans, ['No' nan 'Yes']\n",
      "\n",
      "WebframeDesireNextYear, ['ASP.NET Core' nan 'Django;Ruby on Rails' ...\n",
      " 'Django;Express;Flask;Gatsby;jQuery;Laravel;React.js;Ruby on Rails;Spring;Vue.js'\n",
      " 'ASP.NET;ASP.NET Core;Flask;Gatsby;jQuery;React.js;Vue.js'\n",
      " 'Drupal;Flask;Gatsby;Spring;Vue.js']\n",
      "\n",
      "WebframeWorkedWith, ['ASP.NET;ASP.NET Core' nan 'Ruby on Rails' ...\n",
      " 'ASP.NET;ASP.NET Core;Flask;Gatsby;jQuery;React.js;Vue.js'\n",
      " 'Angular;Angular.js;ASP.NET;ASP.NET Core;Django;Express;jQuery;Laravel;React.js;Ruby on Rails;Symfony'\n",
      " 'ASP.NET;ASP.NET Core;Django;jQuery;Symfony;Vue.js']\n",
      "\n"
     ]
    }
   ],
   "source": [
    "cat_cols = [col for col in df1.columns if df1[col].dtype == 'object']\n",
    "\n",
    "print('Number of cat variables: ', len(cat_cols))\n",
    "\n",
    "### exploring unique contents of each column\n",
    "for feature in cat_cols:\n",
    "    print(f\"{feature}, {df1[feature].unique()}\\n\")"
   ]
  },
  {
   "cell_type": "markdown",
   "id": "312868f9",
   "metadata": {},
   "source": [
    "**Replacing some values**"
   ]
  },
  {
   "cell_type": "code",
   "execution_count": 15,
   "id": "2e8a6675",
   "metadata": {},
   "outputs": [
    {
     "data": {
      "text/plain": [
       "array(['Man', nan, 'Woman',\n",
       "       'Man;Non-binary, genderqueer, or gender non-conforming',\n",
       "       'Non-binary, genderqueer, or gender non-conforming',\n",
       "       'Woman;Non-binary, genderqueer, or gender non-conforming',\n",
       "       'Woman;Man;Non-binary, genderqueer, or gender non-conforming',\n",
       "       'Woman;Man'], dtype=object)"
      ]
     },
     "execution_count": 15,
     "metadata": {},
     "output_type": "execute_result"
    }
   ],
   "source": [
    "df1.Gender.unique()"
   ]
  },
  {
   "cell_type": "code",
   "execution_count": 16,
   "id": "0107314e",
   "metadata": {},
   "outputs": [
    {
     "data": {
      "text/plain": [
       "array([nan, 'Yes', 'No', 'Onboarding? What onboarding?'], dtype=object)"
      ]
     },
     "execution_count": 16,
     "metadata": {},
     "output_type": "execute_result"
    }
   ],
   "source": [
    "df1.NEWOnboardGood.unique()"
   ]
  },
  {
   "cell_type": "code",
   "execution_count": 17,
   "id": "31e524eb",
   "metadata": {},
   "outputs": [],
   "source": [
    "df1['Gender'].replace(to_replace={'Man;Non-binary, genderqueer, or gender non-conforming' :'Man' ,\n",
    "                                  'Non-binary, genderqueer, or gender non-conforming' :'Other',\n",
    "                                  'Woman;Non-binary, genderqueer, or gender non-conforming':'Woman',\n",
    "                                  'Woman;Man;Non-binary, genderqueer, or gender non-conforming':'Other',\n",
    "                                  'Woman;Man':'Other'},inplace=True)\n",
    "\n",
    "\n",
    "df1['NEWOnboardGood'].replace(to_replace={'Onboarding? What onboarding?':'other'},inplace=True)\n"
   ]
  },
  {
   "cell_type": "code",
   "execution_count": 18,
   "id": "1054a817",
   "metadata": {},
   "outputs": [
    {
     "data": {
      "text/plain": [
       "(array(['Man', nan, 'Woman', 'Other'], dtype=object),\n",
       " array([nan, 'Yes', 'No', 'other'], dtype=object))"
      ]
     },
     "execution_count": 18,
     "metadata": {},
     "output_type": "execute_result"
    }
   ],
   "source": [
    "df1.Gender.unique(), df1.NEWOnboardGood.unique()"
   ]
  },
  {
   "cell_type": "markdown",
   "id": "e931d796",
   "metadata": {},
   "source": [
    "**List of numerical variables**"
   ]
  },
  {
   "cell_type": "code",
   "execution_count": 19,
   "id": "4bc2ad57",
   "metadata": {},
   "outputs": [
    {
     "name": "stdout",
     "output_type": "stream",
     "text": [
      "Number of numerical variables:  5\n"
     ]
    },
    {
     "data": {
      "text/html": [
       "<div>\n",
       "<style scoped>\n",
       "    .dataframe tbody tr th:only-of-type {\n",
       "        vertical-align: middle;\n",
       "    }\n",
       "\n",
       "    .dataframe tbody tr th {\n",
       "        vertical-align: top;\n",
       "    }\n",
       "\n",
       "    .dataframe thead th {\n",
       "        text-align: right;\n",
       "    }\n",
       "</style>\n",
       "<table border=\"1\" class=\"dataframe\">\n",
       "  <thead>\n",
       "    <tr style=\"text-align: right;\">\n",
       "      <th></th>\n",
       "      <th>Age</th>\n",
       "      <th>Age1stCode</th>\n",
       "      <th>WorkWeekHrs</th>\n",
       "      <th>YearsCode</th>\n",
       "      <th>YearsCodePro</th>\n",
       "    </tr>\n",
       "  </thead>\n",
       "  <tbody>\n",
       "    <tr>\n",
       "      <th>0</th>\n",
       "      <td>NaN</td>\n",
       "      <td>13.0</td>\n",
       "      <td>50.0</td>\n",
       "      <td>36.0</td>\n",
       "      <td>27.0</td>\n",
       "    </tr>\n",
       "    <tr>\n",
       "      <th>1</th>\n",
       "      <td>NaN</td>\n",
       "      <td>19.0</td>\n",
       "      <td>NaN</td>\n",
       "      <td>7.0</td>\n",
       "      <td>4.0</td>\n",
       "    </tr>\n",
       "    <tr>\n",
       "      <th>2</th>\n",
       "      <td>NaN</td>\n",
       "      <td>15.0</td>\n",
       "      <td>NaN</td>\n",
       "      <td>4.0</td>\n",
       "      <td>NaN</td>\n",
       "    </tr>\n",
       "    <tr>\n",
       "      <th>3</th>\n",
       "      <td>25.0</td>\n",
       "      <td>18.0</td>\n",
       "      <td>40.0</td>\n",
       "      <td>7.0</td>\n",
       "      <td>4.0</td>\n",
       "    </tr>\n",
       "    <tr>\n",
       "      <th>4</th>\n",
       "      <td>31.0</td>\n",
       "      <td>16.0</td>\n",
       "      <td>NaN</td>\n",
       "      <td>15.0</td>\n",
       "      <td>8.0</td>\n",
       "    </tr>\n",
       "  </tbody>\n",
       "</table>\n",
       "</div>"
      ],
      "text/plain": [
       "    Age  Age1stCode  WorkWeekHrs  YearsCode  YearsCodePro\n",
       "0   NaN        13.0         50.0       36.0          27.0\n",
       "1   NaN        19.0          NaN        7.0           4.0\n",
       "2   NaN        15.0          NaN        4.0           NaN\n",
       "3  25.0        18.0         40.0        7.0           4.0\n",
       "4  31.0        16.0          NaN       15.0           8.0"
      ]
     },
     "execution_count": 19,
     "metadata": {},
     "output_type": "execute_result"
    }
   ],
   "source": [
    "num_cols = [col for col in df1.columns if df1[col].dtype != 'object']\n",
    "\n",
    "print('Number of numerical variables: ', len(num_cols))\n",
    "df1[num_cols].head()"
   ]
  },
  {
   "cell_type": "markdown",
   "id": "e3749b14",
   "metadata": {},
   "source": [
    "### Handling missing values\n",
    "\n",
    "filling null values, we will use two methods, random sampling for higher null values and mean/mode sampling for lower null values\n",
    "\n"
   ]
  },
  {
   "cell_type": "code",
   "execution_count": 20,
   "id": "8703852e",
   "metadata": {},
   "outputs": [],
   "source": [
    "def random_value_imputation(feature):\n",
    "    random_sample = df1[feature].dropna().sample(df1[feature].isna().sum())\n",
    "    random_sample.index = df1[df1[feature].isnull()].index\n",
    "    df1.loc[df1[feature].isnull(),feature] =random_sample\n",
    "    \n",
    "def impute_mode(feature):\n",
    "    mode = df1[feature].mode()[0]\n",
    "    df1[feature] =df[feature].fillna(mode)"
   ]
  },
  {
   "cell_type": "code",
   "execution_count": 21,
   "id": "221b3c33",
   "metadata": {},
   "outputs": [
    {
     "data": {
      "text/plain": [
       "Age             19015\n",
       "Age1stCode       6988\n",
       "WorkWeekHrs     23310\n",
       "YearsCode        7677\n",
       "YearsCodePro    20328\n",
       "dtype: int64"
      ]
     },
     "execution_count": 21,
     "metadata": {},
     "output_type": "execute_result"
    }
   ],
   "source": [
    "df1[num_cols].isnull().sum()"
   ]
  },
  {
   "cell_type": "code",
   "execution_count": 22,
   "id": "6aa8b85e",
   "metadata": {},
   "outputs": [
    {
     "data": {
      "text/plain": [
       "Age             0\n",
       "Age1stCode      0\n",
       "WorkWeekHrs     0\n",
       "YearsCode       0\n",
       "YearsCodePro    0\n",
       "dtype: int64"
      ]
     },
     "execution_count": 22,
     "metadata": {},
     "output_type": "execute_result"
    }
   ],
   "source": [
    "for col in num_cols:\n",
    "    random_value_imputation(col)\n",
    "\n",
    "### display num_cols    \n",
    "df1[num_cols].isnull().sum()"
   ]
  },
  {
   "cell_type": "code",
   "execution_count": 23,
   "id": "20486e63",
   "metadata": {},
   "outputs": [
    {
     "data": {
      "text/plain": [
       "MainBranch                      0\n",
       "Hobbyist                        0\n",
       "CompFreq                        0\n",
       "Country                         0\n",
       "DatabaseDesireNextYear          0\n",
       "DatabaseWorkedWith              0\n",
       "DevType                         0\n",
       "EdLevel                         0\n",
       "Employment                      0\n",
       "Gender                          0\n",
       "JobSat                          0\n",
       "JobSeek                         0\n",
       "LanguageWorkedWith              0\n",
       "NEWCollabToolsDesireNextYear    0\n",
       "NEWCollabToolsWorkedWith        0\n",
       "NEWDevOps                       0\n",
       "NEWDevOpsImpt                   0\n",
       "NEWEdImpt                       0\n",
       "NEWLearn                        0\n",
       "NEWOffTopic                     0\n",
       "NEWOnboardGood                  0\n",
       "NEWOtherComms                   0\n",
       "NEWOvertime                     0\n",
       "NEWPurpleLink                   0\n",
       "OpSys                           0\n",
       "PlatformDesireNextYear          0\n",
       "PlatformWorkedWith              0\n",
       "PurchaseWhat                    0\n",
       "SOAccount                       0\n",
       "SOComm                          0\n",
       "SOPartFreq                      0\n",
       "SOVisitFreq                     0\n",
       "Trans                           0\n",
       "WebframeDesireNextYear          0\n",
       "WebframeWorkedWith              0\n",
       "dtype: int64"
      ]
     },
     "execution_count": 23,
     "metadata": {},
     "output_type": "execute_result"
    }
   ],
   "source": [
    "for col in cat_cols:\n",
    "    impute_mode(col)\n",
    "    \n",
    "### display cat_cols\n",
    "df1[cat_cols].isnull().sum()"
   ]
  },
  {
   "cell_type": "code",
   "execution_count": 24,
   "id": "7632a2b5",
   "metadata": {},
   "outputs": [
    {
     "name": "stdout",
     "output_type": "stream",
     "text": [
      "'MainBranch': len of Unique 5 => ['I am a developer by profession' 'I code primarily as a hobby'\n",
      " 'I used to be a developer by profession, but no longer am'\n",
      " 'I am not primarily a developer, but I write code sometimes as part of my work'\n",
      " 'I am a student who is learning to code'] unique values\n",
      "\n",
      "'Hobbyist': len of Unique 2 => ['Yes' 'No'] unique values\n",
      "\n",
      "'CompFreq': len of Unique 3 => ['Monthly' 'Yearly' 'Weekly'] unique values\n",
      "\n",
      "'Country': len of Unique 183 => ['Germany' 'United Kingdom' 'Russian Federation' 'Albania' 'United States'\n",
      " 'India' 'Tunisia' 'Spain' 'Netherlands' 'France' 'Belgium' 'Portugal'\n",
      " 'Canada' 'China' 'Ukraine' 'Italy' 'Brazil' 'Austria' 'Mexico' 'Sweden'\n",
      " 'Poland' 'Indonesia' 'Greece' 'Israel' 'Czech Republic'\n",
      " 'Bosnia and Herzegovina' 'Bulgaria' 'Serbia' 'Switzerland' 'Hungary'\n",
      " 'Nepal' 'Slovenia' 'Uruguay' 'Denmark' 'Pakistan' 'Taiwan' 'Romania'\n",
      " 'Finland' 'Costa Rica' 'Nigeria' 'Chile' 'Turkey' 'Panama' 'Ireland'\n",
      " 'Estonia' 'Philippines' 'Australia' 'Nomadic' 'Peru' 'Cyprus' 'Sri Lanka'\n",
      " 'Kenya' 'Norway' 'Kyrgyzstan' 'Iran' 'Croatia' 'Egypt' 'Argentina'\n",
      " 'Ghana' 'Latvia' 'Morocco' 'Bangladesh' 'Ecuador' 'Haiti'\n",
      " 'Venezuela, Bolivarian Republic of...' 'Colombia' 'Lithuania'\n",
      " 'El Salvador' 'Honduras' 'Ethiopia' 'Lebanon' 'Uganda' 'Algeria'\n",
      " 'Viet Nam' 'Guatemala' 'Syrian Arab Republic' 'Afghanistan' 'Slovakia'\n",
      " 'United Arab Emirates' 'Belarus' 'Sudan' 'South Africa' 'Jordan'\n",
      " 'Georgia' 'United Republic of Tanzania' 'Antigua and Barbuda'\n",
      " 'Saudi Arabia' 'New Zealand' 'Kuwait' 'Armenia' 'Republic of Moldova'\n",
      " 'Cuba' 'Luxembourg' 'Singapore' 'Azerbaijan' 'Dominican Republic'\n",
      " 'Iceland' 'Isle of Man' 'Uzbekistan' 'Trinidad and Tobago' 'Senegal'\n",
      " 'Andorra' 'Turkmenistan' 'Hong Kong (S.A.R.)' 'Benin' 'Bolivia'\n",
      " 'Republic of Korea' 'Japan' 'Malta' 'Iraq' 'South Korea' 'Paraguay'\n",
      " 'Malaysia' 'Thailand' 'Myanmar' 'Kazakhstan' 'Cambodia' 'Jamaica'\n",
      " 'Nicaragua' 'Maldives' 'Democratic Republic of the Congo'\n",
      " 'Papua New Guinea' 'Oman' 'The former Yugoslav Republic of Macedonia'\n",
      " 'Malawi' 'Qatar' 'Madagascar' 'Botswana' 'Angola' 'Montenegro' 'Yemen'\n",
      " 'Mongolia' 'Kosovo' 'Zambia' 'Zimbabwe' 'Libyan Arab Jamahiriya'\n",
      " 'Mozambique' 'Somalia' 'Eritrea' 'Namibia' 'Rwanda' 'Burkina Faso'\n",
      " 'Congo, Republic of the...' 'Swaziland' 'Bhutan' 'Cameroon' 'Bahrain'\n",
      " \"Côte d'Ivoire\" 'Sierra Leone' 'Togo' 'Niger' 'Barbados' 'Belize'\n",
      " 'Saint Vincent and the Grenadines' \"Lao People's Democratic Republic\"\n",
      " 'Tajikistan' 'Mauritius' 'Guinea' 'Brunei Darussalam' 'Bahamas'\n",
      " 'Mauritania' 'Saint Lucia' 'Djibouti' 'San Marino' 'Lesotho' 'Nauru'\n",
      " 'Burundi' 'Fiji' 'Kiribati' 'Grenada' 'Chad' 'Mali' 'Guyana'\n",
      " 'Micronesia, Federated States of...' 'Gambia' 'North Korea'\n",
      " 'Liechtenstein' 'Monaco' 'Timor-Leste' 'Solomon Islands' 'Cape Verde'\n",
      " 'Gabon' 'Marshall Islands'] unique values\n",
      "\n",
      "'DatabaseDesireNextYear': len of Unique 3193 => ['Microsoft SQL Server' 'PostgreSQL' 'MySQL;PostgreSQL' ...\n",
      " 'Elasticsearch;MySQL;Oracle;Redis;SQLite'\n",
      " 'Couchbase;DynamoDB;Elasticsearch;Firebase;IBM DB2;Oracle;PostgreSQL'\n",
      " 'Elasticsearch;IBM DB2;Oracle'] unique values\n",
      "\n",
      "'DatabaseWorkedWith': len of Unique 2808 => ['Elasticsearch;Microsoft SQL Server;Oracle' 'MySQL'\n",
      " 'MySQL;PostgreSQL;Redis;SQLite' ...\n",
      " 'Cassandra;Couchbase;DynamoDB;IBM DB2;Oracle'\n",
      " 'Cassandra;Couchbase;DynamoDB;Firebase;IBM DB2'\n",
      " 'Firebase;IBM DB2;MariaDB;Microsoft SQL Server;MySQL;Oracle'] unique values\n",
      "\n",
      "'DevType': len of Unique 8269 => ['Developer, desktop or enterprise applications;Developer, full-stack'\n",
      " 'Developer, full-stack;Developer, mobile' 'Developer, full-stack' ...\n",
      " 'Data scientist or machine learning specialist;Database administrator;Developer, back-end;Developer, front-end;System administrator'\n",
      " 'Academic researcher;Data or business analyst;Data scientist or machine learning specialist;Database administrator;Designer;Developer, back-end;Developer, desktop or enterprise applications;Developer, embedded applications or devices;Developer, front-end;Developer, full-stack;Developer, game or graphics;Developer, mobile;Developer, QA or test;DevOps specialist;Senior executive/VP;System administrator'\n",
      " 'Data or business analyst;Developer, mobile;Senior executive/VP;System administrator'] unique values\n",
      "\n",
      "'EdLevel': len of Unique 9 => ['Master’s degree (M.A., M.S., M.Eng., MBA, etc.)'\n",
      " 'Bachelor’s degree (B.A., B.S., B.Eng., etc.)'\n",
      " 'Secondary school (e.g. American high school, German Realschule or Gymnasium, etc.)'\n",
      " 'Professional degree (JD, MD, etc.)'\n",
      " 'Some college/university study without earning a degree'\n",
      " 'Associate degree (A.A., A.S., etc.)'\n",
      " 'Other doctoral degree (Ph.D., Ed.D., etc.)' 'Primary/elementary school'\n",
      " 'I never completed any formal education'] unique values\n",
      "\n",
      "'Employment': len of Unique 7 => ['Independent contractor, freelancer, or self-employed'\n",
      " 'Employed full-time' 'Student' 'Not employed, but looking for work'\n",
      " 'Employed part-time' 'Retired' 'Not employed, and not looking for work'] unique values\n",
      "\n",
      "'Gender': len of Unique 7 => ['Man' 'Woman' 'Man;Non-binary, genderqueer, or gender non-conforming'\n",
      " 'Non-binary, genderqueer, or gender non-conforming'\n",
      " 'Woman;Non-binary, genderqueer, or gender non-conforming'\n",
      " 'Woman;Man;Non-binary, genderqueer, or gender non-conforming' 'Woman;Man'] unique values\n",
      "\n",
      "'JobSat': len of Unique 5 => ['Slightly satisfied' 'Very dissatisfied' 'Very satisfied'\n",
      " 'Slightly dissatisfied' 'Neither satisfied nor dissatisfied'] unique values\n",
      "\n",
      "'JobSeek': len of Unique 3 => ['I am not interested in new job opportunities'\n",
      " 'I’m not actively looking, but I am open to new opportunities'\n",
      " 'I am actively looking for a job'] unique values\n",
      "\n",
      "'LanguageWorkedWith': len of Unique 14256 => ['C#;HTML/CSS;JavaScript' 'JavaScript;Swift' 'Objective-C;Python;Swift'\n",
      " ...\n",
      " 'Bash/Shell/PowerShell;C;C++;Go;HTML/CSS;JavaScript;Kotlin;Python;Ruby;Rust;SQL'\n",
      " 'Bash/Shell/PowerShell;C#;C++;HTML/CSS;JavaScript;Kotlin;PHP;SQL;VBA'\n",
      " 'Bash/Shell/PowerShell;C;C#;C++;HTML/CSS;Java;JavaScript;Objective-C;Python;Swift'] unique values\n",
      "\n",
      "'NEWCollabToolsDesireNextYear': len of Unique 1277 => ['Microsoft Teams;Microsoft Azure;Trello' 'Github;Slack' 'Github' ...\n",
      " 'Jira;Github;Gitlab;Facebook Workplace;Trello;Stack Overflow for Teams'\n",
      " 'Gitlab;Facebook Workplace;Slack;Microsoft Teams;Microsoft Azure;Trello;Google Suite (Docs, Meet, etc);Stack Overflow for Teams'\n",
      " 'Github;Gitlab;Facebook Workplace;Slack;Microsoft Teams;Microsoft Azure;Google Suite (Docs, Meet, etc)'] unique values\n",
      "\n",
      "'NEWCollabToolsWorkedWith': len of Unique 1153 => ['Confluence;Jira;Slack;Microsoft Azure;Trello'\n",
      " 'Confluence;Jira;Github;Gitlab;Slack' 'Github' ...\n",
      " 'Confluence;Github;Facebook Workplace;Slack;Microsoft Teams;Microsoft Azure;Trello;Google Suite (Docs, Meet, etc);Stack Overflow for Teams'\n",
      " 'Facebook Workplace;Microsoft Teams;Trello;Google Suite (Docs, Meet, etc);Stack Overflow for Teams'\n",
      " 'Confluence;Github;Gitlab;Facebook Workplace;Slack;Microsoft Teams;Trello;Google Suite (Docs, Meet, etc);Stack Overflow for Teams'] unique values\n",
      "\n",
      "'NEWDevOps': len of Unique 3 => ['No' 'Yes' 'Not sure'] unique values\n",
      "\n",
      "'NEWDevOpsImpt': len of Unique 5 => ['Somewhat important' 'Extremely important' 'Neutral'\n",
      " 'Not at all important' 'Not very important'] unique values\n",
      "\n",
      "'NEWEdImpt': len of Unique 5 => ['Fairly important' 'Not at all important/not necessary' 'Very important'\n",
      " 'Somewhat important' 'Critically important'] unique values\n",
      "\n",
      "'NEWLearn': len of Unique 4 => ['Once a year' 'Once a decade' 'Every few months' 'Once every few years'] unique values\n",
      "\n",
      "'NEWOffTopic': len of Unique 3 => ['Not sure' 'No' 'Yes'] unique values\n",
      "\n",
      "'NEWOnboardGood': len of Unique 3 => ['Yes' 'No' 'Onboarding? What onboarding?'] unique values\n",
      "\n",
      "'NEWOtherComms': len of Unique 2 => ['No' 'Yes'] unique values\n",
      "\n",
      "'NEWOvertime': len of Unique 5 => ['Often: 1-2 days per week or more'\n",
      " 'Sometimes: 1-2 days per month but less than weekly'\n",
      " 'Occasionally: 1-2 days per quarter but less than monthly' 'Never'\n",
      " 'Rarely: 1-2 days per year or less'] unique values\n",
      "\n",
      "'NEWPurpleLink': len of Unique 4 => ['Amused' 'Hello, old friend' 'Annoyed' 'Indifferent'] unique values\n",
      "\n",
      "'OpSys': len of Unique 4 => ['Windows' 'MacOS' 'Linux-based' 'BSD'] unique values\n",
      "\n",
      "'PlatformDesireNextYear': len of Unique 7471 => ['Android;iOS;Kubernetes;Microsoft Azure;Windows'\n",
      " 'iOS;Kubernetes;Linux;MacOS' 'Linux' ...\n",
      " 'AWS;IBM Cloud or Watson;Microsoft Azure;Slack Apps and Integrations;WordPress'\n",
      " 'Android;AWS;Google Cloud Platform;IBM Cloud or Watson;iOS;Linux;Microsoft Azure;Raspberry Pi;Slack Apps and Integrations;Windows'\n",
      " 'Arduino;MacOS;Windows'] unique values\n",
      "\n",
      "'PlatformWorkedWith': len of Unique 6287 => ['Windows' 'iOS' 'AWS;Docker;Linux;MacOS;Windows' ...\n",
      " 'Android;Google Cloud Platform;Heroku;iOS;Linux;MacOS'\n",
      " 'Android;Arduino;Docker;Google Cloud Platform;Heroku;iOS;Kubernetes;Linux;MacOS;Raspberry Pi;Windows'\n",
      " 'AWS;Google Cloud Platform;Heroku;iOS;Linux;MacOS;Microsoft Azure;WordPress'] unique values\n",
      "\n",
      "'PurchaseWhat': len of Unique 3 => ['I have little or no influence' 'I have a great deal of influence'\n",
      " 'I have some influence'] unique values\n",
      "\n",
      "'SOAccount': len of Unique 3 => ['No' 'Yes' \"Not sure/can't remember\"] unique values\n",
      "\n",
      "'SOComm': len of Unique 6 => ['No, not at all' 'Yes, definitely' 'Yes, somewhat' 'No, not really'\n",
      " 'Neutral' 'Not sure'] unique values\n",
      "\n",
      "'SOPartFreq': len of Unique 6 => ['Less than once per month or monthly' 'A few times per month or weekly'\n",
      " 'Multiple times per day'\n",
      " 'I have never participated in Q&A on Stack Overflow'\n",
      " 'A few times per week' 'Daily or almost daily'] unique values\n",
      "\n",
      "'SOVisitFreq': len of Unique 6 => ['Multiple times per day' 'Daily or almost daily'\n",
      " 'A few times per month or weekly' 'A few times per week'\n",
      " 'I have never visited Stack Overflow (before today)'\n",
      " 'Less than once per month or monthly'] unique values\n",
      "\n",
      "'Trans': len of Unique 2 => ['No' 'Yes'] unique values\n",
      "\n",
      "'WebframeDesireNextYear': len of Unique 3986 => ['ASP.NET Core' 'React.js' 'Django;Ruby on Rails' ...\n",
      " 'Django;Express;Flask;Gatsby;jQuery;Laravel;React.js;Ruby on Rails;Spring;Vue.js'\n",
      " 'ASP.NET;ASP.NET Core;Flask;Gatsby;jQuery;React.js;Vue.js'\n",
      " 'Drupal;Flask;Gatsby;Spring;Vue.js'] unique values\n",
      "\n",
      "'WebframeWorkedWith': len of Unique 3789 => ['ASP.NET;ASP.NET Core' 'jQuery' 'Ruby on Rails' ...\n",
      " 'ASP.NET;ASP.NET Core;Flask;Gatsby;jQuery;React.js;Vue.js'\n",
      " 'Angular;Angular.js;ASP.NET;ASP.NET Core;Django;Express;jQuery;Laravel;React.js;Ruby on Rails;Symfony'\n",
      " 'ASP.NET;ASP.NET Core;Django;jQuery;Symfony;Vue.js'] unique values\n",
      "\n"
     ]
    }
   ],
   "source": [
    "for col in cat_cols:\n",
    "    print(f\"'{col}': len of Unique {len(df1[col].unique())} => {df1[col].unique()} unique values\\n\")"
   ]
  },
  {
   "cell_type": "markdown",
   "id": "8bdeee4c",
   "metadata": {},
   "source": [
    "### In some columns it is good to get only the most common values (Dimensionality Reduction)\n",
    "* WebframeWorkedWith\n",
    "* WebframeDesireNextYear\n",
    "* PlatformDesireNextYear\n",
    "* NEWCollabToolsWorkedWith\n",
    "* NEWCollabToolsDesireNextYear\n",
    "* LanguageWorkedWith\n",
    "* DevType \n",
    "* DatabaseWorkedWith \n",
    "* DatabaseDesireNextYear \n",
    "* Country"
   ]
  },
  {
   "cell_type": "code",
   "execution_count": 25,
   "id": "085088bc",
   "metadata": {},
   "outputs": [],
   "source": [
    "def Dim_red(df,\n",
    "            col,\n",
    "            lst_most:list):\n",
    "    '''\n",
    "    This function getting dataframe, name of the feature and the list of the most values as input!\n",
    "    '''\n",
    "    \n",
    "    df[col] = df[col].apply(lambda x: 'Other' if x in lst_most else x)\n",
    "    #print(df[col])"
   ]
  },
  {
   "cell_type": "markdown",
   "id": "4f49f899",
   "metadata": {},
   "source": [
    "**Any location not in the 10 most country should be tagged as \"other\" location. This way number of categories can be reduced by huge amount.**"
   ]
  },
  {
   "cell_type": "code",
   "execution_count": 26,
   "id": "974eaaed",
   "metadata": {},
   "outputs": [
    {
     "data": {
      "text/plain": [
       "United States     12858\n",
       "India              8403\n",
       "United Kingdom     3896\n",
       "Germany            3890\n",
       "Canada             2191\n",
       "France             1898\n",
       "Brazil             1818\n",
       "Netherlands        1343\n",
       "Poland             1278\n",
       "Australia          1208\n",
       "Name: Country, dtype: int64"
      ]
     },
     "execution_count": 26,
     "metadata": {},
     "output_type": "execute_result"
    }
   ],
   "source": [
    "locations = df1['Country'].value_counts(ascending=False)\n",
    "locations[:10]"
   ]
  },
  {
   "cell_type": "code",
   "execution_count": 27,
   "id": "9d98b7de",
   "metadata": {},
   "outputs": [
    {
     "data": {
      "text/plain": [
       "Spain                 1161\n",
       "Italy                 1117\n",
       "Russian Federation    1092\n",
       "Sweden                 886\n",
       "Pakistan               809\n",
       "                      ... \n",
       "Kiribati                 1\n",
       "Nauru                    1\n",
       "Lesotho                  1\n",
       "Saint Lucia              1\n",
       "Marshall Islands         1\n",
       "Name: Country, Length: 173, dtype: int64"
      ]
     },
     "execution_count": 27,
     "metadata": {},
     "output_type": "execute_result"
    }
   ],
   "source": [
    "locations_10 = locations[locations<1200]\n",
    "locations_10"
   ]
  },
  {
   "cell_type": "code",
   "execution_count": 28,
   "id": "1799db81",
   "metadata": {},
   "outputs": [
    {
     "data": {
      "text/plain": [
       "array(['Germany', 'United Kingdom', 'Other', 'United States', 'India',\n",
       "       'Netherlands', 'France', 'Canada', 'Brazil', 'Poland', 'Australia'],\n",
       "      dtype=object)"
      ]
     },
     "execution_count": 28,
     "metadata": {},
     "output_type": "execute_result"
    }
   ],
   "source": [
    "Dim_red(df=df1, col=\"Country\",lst_most=locations_10)\n",
    "df1.Country.unique()"
   ]
  },
  {
   "cell_type": "markdown",
   "id": "adaaa445",
   "metadata": {},
   "source": [
    "**Getting DatabaseDesireNextYear most common values**"
   ]
  },
  {
   "cell_type": "code",
   "execution_count": 29,
   "id": "0c75cd4a",
   "metadata": {},
   "outputs": [
    {
     "data": {
      "text/plain": [
       "PostgreSQL              22701\n",
       "Microsoft SQL Server     1947\n",
       "MySQL                    1823\n",
       "MongoDB                  1624\n",
       "SQLite                    966\n",
       "Firebase                  901\n",
       "PostgreSQL;Redis          787\n",
       "PostgreSQL;SQLite         689\n",
       "MongoDB;MySQL             667\n",
       "MongoDB;PostgreSQL        576\n",
       "Name: DatabaseDesireNextYear, dtype: int64"
      ]
     },
     "execution_count": 29,
     "metadata": {},
     "output_type": "execute_result"
    }
   ],
   "source": [
    "DatabaseDesireNextYear = df1['DatabaseDesireNextYear'].value_counts(ascending=False)\n",
    "DatabaseDesireNextYear[:10]"
   ]
  },
  {
   "cell_type": "code",
   "execution_count": 30,
   "id": "a75b79d9",
   "metadata": {},
   "outputs": [
    {
     "data": {
      "text/plain": [
       "array(['Microsoft SQL Server', 'PostgreSQL', 'Other', 'MongoDB',\n",
       "       'PostgreSQL;SQLite', 'MongoDB;MySQL', 'MySQL', 'PostgreSQL;Redis',\n",
       "       'SQLite', 'MongoDB;PostgreSQL', 'Firebase'], dtype=object)"
      ]
     },
     "execution_count": 30,
     "metadata": {},
     "output_type": "execute_result"
    }
   ],
   "source": [
    "Dim_red(df1,\"DatabaseDesireNextYear\",DatabaseDesireNextYear[DatabaseDesireNextYear<576])\n",
    "df1.DatabaseDesireNextYear.unique()"
   ]
  },
  {
   "cell_type": "markdown",
   "id": "7966577a",
   "metadata": {},
   "source": [
    "**DatabaseWorkedWith**"
   ]
  },
  {
   "cell_type": "code",
   "execution_count": 31,
   "id": "7f5a4e25",
   "metadata": {},
   "outputs": [
    {
     "data": {
      "text/plain": [
       "MySQL                         18751\n",
       "Microsoft SQL Server           3298\n",
       "PostgreSQL                     1937\n",
       "SQLite                         1313\n",
       "Microsoft SQL Server;MySQL     1158\n",
       "MySQL;SQLite                   1080\n",
       "MongoDB                         975\n",
       "Name: DatabaseWorkedWith, dtype: int64"
      ]
     },
     "execution_count": 31,
     "metadata": {},
     "output_type": "execute_result"
    }
   ],
   "source": [
    "DatabaseWorkedWith = df1['DatabaseWorkedWith'].value_counts(ascending=False)\n",
    "DatabaseWorkedWith[:7]"
   ]
  },
  {
   "cell_type": "code",
   "execution_count": 32,
   "id": "af10fa0b",
   "metadata": {},
   "outputs": [
    {
     "data": {
      "text/plain": [
       "array(['Other', 'MySQL', 'Microsoft SQL Server', 'PostgreSQL',\n",
       "       'MySQL;SQLite', 'SQLite', 'MongoDB', 'Microsoft SQL Server;MySQL'],\n",
       "      dtype=object)"
      ]
     },
     "execution_count": 32,
     "metadata": {},
     "output_type": "execute_result"
    }
   ],
   "source": [
    "Dim_red(df1,\"DatabaseWorkedWith\",DatabaseWorkedWith[DatabaseWorkedWith<975])\n",
    "df1.DatabaseWorkedWith.unique()"
   ]
  },
  {
   "cell_type": "markdown",
   "id": "cb040f93",
   "metadata": {},
   "source": [
    "**DevType**"
   ]
  },
  {
   "cell_type": "code",
   "execution_count": 33,
   "id": "9b6d567c",
   "metadata": {},
   "outputs": [
    {
     "data": {
      "text/plain": [
       "Developer, full-stack                                                                                           19515\n",
       "Developer, back-end                                                                                              3086\n",
       "Developer, back-end;Developer, front-end;Developer, full-stack                                                   2227\n",
       "Developer, back-end;Developer, full-stack                                                                        1476\n",
       "Developer, front-end                                                                                             1401\n",
       "Developer, mobile                                                                                                1251\n",
       "Developer, front-end;Developer, full-stack                                                                        830\n",
       "Developer, back-end;Developer, desktop or enterprise applications;Developer, front-end;Developer, full-stack      813\n",
       "Developer, back-end;Developer, desktop or enterprise applications                                                 650\n",
       "Developer, desktop or enterprise applications                                                                     606\n",
       "Name: DevType, dtype: int64"
      ]
     },
     "execution_count": 33,
     "metadata": {},
     "output_type": "execute_result"
    }
   ],
   "source": [
    "DevType = df1['DevType'].value_counts(ascending=False)\n",
    "DevType[:10]"
   ]
  },
  {
   "cell_type": "code",
   "execution_count": 34,
   "id": "22e72c84",
   "metadata": {},
   "outputs": [
    {
     "data": {
      "text/plain": [
       "array(['Other', 'Developer, full-stack', 'Developer, back-end',\n",
       "       'Developer, desktop or enterprise applications',\n",
       "       'Developer, back-end;Developer, full-stack',\n",
       "       'Developer, front-end',\n",
       "       'Developer, back-end;Developer, front-end;Developer, full-stack',\n",
       "       'Developer, back-end;Developer, desktop or enterprise applications;Developer, front-end;Developer, full-stack',\n",
       "       'Developer, mobile', 'Developer, front-end;Developer, full-stack',\n",
       "       'Developer, back-end;Developer, desktop or enterprise applications'],\n",
       "      dtype=object)"
      ]
     },
     "execution_count": 34,
     "metadata": {},
     "output_type": "execute_result"
    }
   ],
   "source": [
    "Dim_red(df1,\"DevType\",DevType[DevType<606])\n",
    "df1.DevType.unique()"
   ]
  },
  {
   "cell_type": "markdown",
   "id": "6016c402",
   "metadata": {},
   "source": [
    "**LanguageWorkedWith**"
   ]
  },
  {
   "cell_type": "code",
   "execution_count": 35,
   "id": "f05998db",
   "metadata": {},
   "outputs": [
    {
     "data": {
      "text/plain": [
       "HTML/CSS;JavaScript;PHP;SQL              8156\n",
       "HTML/CSS;JavaScript                       900\n",
       "C#;HTML/CSS;JavaScript;SQL                856\n",
       "C#;HTML/CSS;JavaScript;SQL;TypeScript     754\n",
       "HTML/CSS;JavaScript;TypeScript            697\n",
       "Python                                    651\n",
       "Java                                      575\n",
       "HTML/CSS;JavaScript;PHP                   525\n",
       "C#                                        416\n",
       "HTML/CSS;Java;JavaScript;SQL              391\n",
       "Name: LanguageWorkedWith, dtype: int64"
      ]
     },
     "execution_count": 35,
     "metadata": {},
     "output_type": "execute_result"
    }
   ],
   "source": [
    "LanguageWorkedWith = df1['LanguageWorkedWith'].value_counts(ascending=False)\n",
    "LanguageWorkedWith[:10]"
   ]
  },
  {
   "cell_type": "code",
   "execution_count": 36,
   "id": "b3e1b01e",
   "metadata": {},
   "outputs": [
    {
     "data": {
      "text/plain": [
       "array(['Other', 'HTML/CSS;JavaScript;PHP;SQL', 'HTML/CSS;JavaScript;PHP',\n",
       "       'HTML/CSS;JavaScript', 'HTML/CSS;JavaScript;TypeScript', 'Python',\n",
       "       'C#;HTML/CSS;JavaScript;SQL',\n",
       "       'C#;HTML/CSS;JavaScript;SQL;TypeScript',\n",
       "       'HTML/CSS;Java;JavaScript;SQL', 'Java', 'C#'], dtype=object)"
      ]
     },
     "execution_count": 36,
     "metadata": {},
     "output_type": "execute_result"
    }
   ],
   "source": [
    "Dim_red(df1,\"LanguageWorkedWith\",LanguageWorkedWith[LanguageWorkedWith<391])\n",
    "df1.LanguageWorkedWith.unique()"
   ]
  },
  {
   "cell_type": "markdown",
   "id": "7c36da23",
   "metadata": {},
   "source": [
    "**NEWCollabToolsDesireNextYear**"
   ]
  },
  {
   "cell_type": "code",
   "execution_count": 37,
   "id": "3c324e5a",
   "metadata": {},
   "outputs": [
    {
     "data": {
      "text/plain": [
       "Github                                                         21906\n",
       "Github;Gitlab                                                   2026\n",
       "Github;Slack                                                    1762\n",
       "Github;Slack;Google Suite (Docs, Meet, etc)                     1376\n",
       "Github;Google Suite (Docs, Meet, etc)                           1151\n",
       "Gitlab                                                          1104\n",
       "Github;Gitlab;Slack                                              934\n",
       "Confluence;Jira;Github;Slack                                     674\n",
       "Github;Slack;Trello;Google Suite (Docs, Meet, etc)               652\n",
       "Confluence;Jira;Github;Slack;Google Suite (Docs, Meet, etc)      613\n",
       "Name: NEWCollabToolsDesireNextYear, dtype: int64"
      ]
     },
     "execution_count": 37,
     "metadata": {},
     "output_type": "execute_result"
    }
   ],
   "source": [
    "NEWCollabToolsDesireNextYear = df1['NEWCollabToolsDesireNextYear'].value_counts(ascending=False)\n",
    "NEWCollabToolsDesireNextYear[:10]"
   ]
  },
  {
   "cell_type": "code",
   "execution_count": 38,
   "id": "c1cb91b5",
   "metadata": {},
   "outputs": [
    {
     "data": {
      "text/plain": [
       "array(['Other', 'Github;Slack', 'Github',\n",
       "       'Github;Google Suite (Docs, Meet, etc)', 'Github;Gitlab',\n",
       "       'Github;Slack;Google Suite (Docs, Meet, etc)',\n",
       "       'Github;Gitlab;Slack', 'Gitlab', 'Confluence;Jira;Github;Slack',\n",
       "       'Github;Slack;Trello;Google Suite (Docs, Meet, etc)',\n",
       "       'Confluence;Jira;Github;Slack;Google Suite (Docs, Meet, etc)'],\n",
       "      dtype=object)"
      ]
     },
     "execution_count": 38,
     "metadata": {},
     "output_type": "execute_result"
    }
   ],
   "source": [
    "Dim_red(df1,\"NEWCollabToolsDesireNextYear\",NEWCollabToolsDesireNextYear[NEWCollabToolsDesireNextYear<613])\n",
    "df1.NEWCollabToolsDesireNextYear.unique()"
   ]
  },
  {
   "cell_type": "markdown",
   "id": "f5d5f2b2",
   "metadata": {},
   "source": [
    "**NEWCollabToolsWorkedWith**"
   ]
  },
  {
   "cell_type": "code",
   "execution_count": 39,
   "id": "9709ad6a",
   "metadata": {},
   "outputs": [
    {
     "data": {
      "text/plain": [
       "Github                                                                       15921\n",
       "Github;Gitlab                                                                 1525\n",
       "Confluence;Jira;Github;Slack;Google Suite (Docs, Meet, etc)                   1287\n",
       "Github;Google Suite (Docs, Meet, etc)                                         1217\n",
       "Github;Slack                                                                  1208\n",
       "Github;Slack;Google Suite (Docs, Meet, etc)                                   1069\n",
       "Confluence;Jira;Github;Slack                                                  1003\n",
       "Github;Slack;Trello;Google Suite (Docs, Meet, etc)                             840\n",
       "Confluence;Jira;Github;Gitlab;Slack;Google Suite (Docs, Meet, etc)             754\n",
       "Confluence;Jira;Github;Gitlab;Slack;Trello;Google Suite (Docs, Meet, etc)      751\n",
       "Name: NEWCollabToolsWorkedWith, dtype: int64"
      ]
     },
     "execution_count": 39,
     "metadata": {},
     "output_type": "execute_result"
    }
   ],
   "source": [
    "NEWCollabToolsWorkedWith = df1['NEWCollabToolsWorkedWith'].value_counts(ascending=False)\n",
    "NEWCollabToolsWorkedWith[:10]"
   ]
  },
  {
   "cell_type": "code",
   "execution_count": 40,
   "id": "4f76df1e",
   "metadata": {},
   "outputs": [
    {
     "data": {
      "text/plain": [
       "array(['Other', 'Github',\n",
       "       'Confluence;Jira;Github;Slack;Google Suite (Docs, Meet, etc)',\n",
       "       'Github;Slack;Trello;Google Suite (Docs, Meet, etc)',\n",
       "       'Github;Slack', 'Confluence;Jira;Github;Slack', 'Github;Gitlab',\n",
       "       'Github;Slack;Google Suite (Docs, Meet, etc)',\n",
       "       'Confluence;Jira;Github;Gitlab;Slack;Trello;Google Suite (Docs, Meet, etc)',\n",
       "       'Confluence;Jira;Github;Gitlab;Slack;Google Suite (Docs, Meet, etc)',\n",
       "       'Github;Google Suite (Docs, Meet, etc)'], dtype=object)"
      ]
     },
     "execution_count": 40,
     "metadata": {},
     "output_type": "execute_result"
    }
   ],
   "source": [
    "Dim_red(df1,\"NEWCollabToolsWorkedWith\",NEWCollabToolsWorkedWith[NEWCollabToolsWorkedWith<751])\n",
    "df1.NEWCollabToolsWorkedWith.unique()"
   ]
  },
  {
   "cell_type": "markdown",
   "id": "7919139d",
   "metadata": {},
   "source": [
    "**PlatformDesireNextYear**"
   ]
  },
  {
   "cell_type": "code",
   "execution_count": 41,
   "id": "09767acc",
   "metadata": {},
   "outputs": [
    {
     "data": {
      "text/plain": [
       "Linux                          15867\n",
       "Windows                         1747\n",
       "Linux;Windows                   1126\n",
       "Android                          823\n",
       "Docker;Linux                     784\n",
       "AWS                              544\n",
       "Docker;Kubernetes;Linux          514\n",
       "Android;iOS                      512\n",
       "Microsoft Azure;Windows          495\n",
       "AWS;Docker;Kubernetes;Linux      492\n",
       "Name: PlatformDesireNextYear, dtype: int64"
      ]
     },
     "execution_count": 41,
     "metadata": {},
     "output_type": "execute_result"
    }
   ],
   "source": [
    "PlatformDesireNextYear = df1['PlatformDesireNextYear'].value_counts(ascending=False)\n",
    "PlatformDesireNextYear[:10]"
   ]
  },
  {
   "cell_type": "code",
   "execution_count": 42,
   "id": "4c192794",
   "metadata": {},
   "outputs": [
    {
     "data": {
      "text/plain": [
       "array(['Other', 'Linux', 'Android', 'Docker;Linux', 'Windows',\n",
       "       'Linux;Windows', 'Microsoft Azure;Windows',\n",
       "       'Docker;Kubernetes;Linux', 'AWS', 'AWS;Docker;Kubernetes;Linux',\n",
       "       'Android;iOS'], dtype=object)"
      ]
     },
     "execution_count": 42,
     "metadata": {},
     "output_type": "execute_result"
    }
   ],
   "source": [
    "Dim_red(df1,\"PlatformDesireNextYear\",PlatformDesireNextYear[PlatformDesireNextYear<492])\n",
    "df1.PlatformDesireNextYear.unique()"
   ]
  },
  {
   "cell_type": "markdown",
   "id": "6f7c1be7",
   "metadata": {},
   "source": [
    "**WebframeDesireNextYear**"
   ]
  },
  {
   "cell_type": "code",
   "execution_count": 43,
   "id": "1e464f05",
   "metadata": {},
   "outputs": [
    {
     "data": {
      "text/plain": [
       "React.js            26917\n",
       "ASP.NET Core         1106\n",
       "Vue.js               1079\n",
       "Spring               1011\n",
       "Express;React.js      899\n",
       "Django                872\n",
       "Flask                 803\n",
       "React.js;Vue.js       762\n",
       "Angular               716\n",
       "jQuery                687\n",
       "Name: WebframeDesireNextYear, dtype: int64"
      ]
     },
     "execution_count": 43,
     "metadata": {},
     "output_type": "execute_result"
    }
   ],
   "source": [
    "WebframeDesireNextYear = df1['WebframeDesireNextYear'].value_counts(ascending=False)\n",
    "WebframeDesireNextYear[:10]"
   ]
  },
  {
   "cell_type": "code",
   "execution_count": 44,
   "id": "944d11b7",
   "metadata": {},
   "outputs": [
    {
     "data": {
      "text/plain": [
       "array(['ASP.NET Core', 'React.js', 'Other', 'Spring', 'Flask',\n",
       "       'Express;React.js', 'Vue.js', 'jQuery', 'Django', 'Angular',\n",
       "       'React.js;Vue.js'], dtype=object)"
      ]
     },
     "execution_count": 44,
     "metadata": {},
     "output_type": "execute_result"
    }
   ],
   "source": [
    "Dim_red(df1,\"WebframeDesireNextYear\",WebframeDesireNextYear[WebframeDesireNextYear<687])\n",
    "df1.WebframeDesireNextYear.unique()"
   ]
  },
  {
   "cell_type": "markdown",
   "id": "b4fbd03a",
   "metadata": {},
   "source": [
    "**WebframeWorkedWith**"
   ]
  },
  {
   "cell_type": "code",
   "execution_count": 45,
   "id": "be6bb9b0",
   "metadata": {},
   "outputs": [
    {
     "data": {
      "text/plain": [
       "jQuery                         24261\n",
       "React.js                        1917\n",
       "Spring                          1350\n",
       "Flask                           1074\n",
       "Django                           920\n",
       "Express;React.js                 916\n",
       "ASP.NET                          820\n",
       "ASP.NET;ASP.NET Core             819\n",
       "ASP.NET;ASP.NET Core;jQuery      792\n",
       "Angular                          725\n",
       "Name: WebframeWorkedWith, dtype: int64"
      ]
     },
     "execution_count": 45,
     "metadata": {},
     "output_type": "execute_result"
    }
   ],
   "source": [
    "WebframeWorkedWith = df1['WebframeWorkedWith'].value_counts(ascending=False)\n",
    "WebframeWorkedWith[:10]"
   ]
  },
  {
   "cell_type": "code",
   "execution_count": 46,
   "id": "a37c7cc0",
   "metadata": {},
   "outputs": [
    {
     "data": {
      "text/plain": [
       "array(['ASP.NET;ASP.NET Core', 'jQuery', 'Other', 'Flask',\n",
       "       'Express;React.js', 'ASP.NET', 'Angular', 'Django', 'React.js',\n",
       "       'Spring', 'ASP.NET;ASP.NET Core;jQuery'], dtype=object)"
      ]
     },
     "execution_count": 46,
     "metadata": {},
     "output_type": "execute_result"
    }
   ],
   "source": [
    "Dim_red(df1,\"WebframeWorkedWith\",WebframeWorkedWith[WebframeWorkedWith<725])\n",
    "df1.WebframeWorkedWith.unique()"
   ]
  },
  {
   "cell_type": "markdown",
   "id": "faa9d9d9",
   "metadata": {},
   "source": [
    "### Labeling the features"
   ]
  },
  {
   "cell_type": "code",
   "execution_count": 47,
   "id": "0c61d50d",
   "metadata": {},
   "outputs": [],
   "source": [
    "encode = LabelEncoder()\n",
    "\n",
    "for col in cat_cols:\n",
    "    df1[col]=encode.fit_transform(df1[col])"
   ]
  },
  {
   "cell_type": "code",
   "execution_count": 48,
   "id": "3c86f3b8",
   "metadata": {},
   "outputs": [
    {
     "data": {
      "text/html": [
       "<div>\n",
       "<style scoped>\n",
       "    .dataframe tbody tr th:only-of-type {\n",
       "        vertical-align: middle;\n",
       "    }\n",
       "\n",
       "    .dataframe tbody tr th {\n",
       "        vertical-align: top;\n",
       "    }\n",
       "\n",
       "    .dataframe thead th {\n",
       "        text-align: right;\n",
       "    }\n",
       "</style>\n",
       "<table border=\"1\" class=\"dataframe\">\n",
       "  <thead>\n",
       "    <tr style=\"text-align: right;\">\n",
       "      <th></th>\n",
       "      <th>MainBranch</th>\n",
       "      <th>Hobbyist</th>\n",
       "      <th>Age</th>\n",
       "      <th>Age1stCode</th>\n",
       "      <th>CompFreq</th>\n",
       "      <th>Country</th>\n",
       "      <th>DatabaseDesireNextYear</th>\n",
       "      <th>DatabaseWorkedWith</th>\n",
       "      <th>DevType</th>\n",
       "      <th>EdLevel</th>\n",
       "      <th>...</th>\n",
       "      <th>SOAccount</th>\n",
       "      <th>SOComm</th>\n",
       "      <th>SOPartFreq</th>\n",
       "      <th>SOVisitFreq</th>\n",
       "      <th>Trans</th>\n",
       "      <th>WebframeDesireNextYear</th>\n",
       "      <th>WebframeWorkedWith</th>\n",
       "      <th>WorkWeekHrs</th>\n",
       "      <th>YearsCode</th>\n",
       "      <th>YearsCodePro</th>\n",
       "    </tr>\n",
       "  </thead>\n",
       "  <tbody>\n",
       "    <tr>\n",
       "      <th>0</th>\n",
       "      <td>0</td>\n",
       "      <td>1</td>\n",
       "      <td>24.0</td>\n",
       "      <td>13.0</td>\n",
       "      <td>0</td>\n",
       "      <td>4</td>\n",
       "      <td>1</td>\n",
       "      <td>5</td>\n",
       "      <td>10</td>\n",
       "      <td>3</td>\n",
       "      <td>...</td>\n",
       "      <td>0</td>\n",
       "      <td>1</td>\n",
       "      <td>4</td>\n",
       "      <td>5</td>\n",
       "      <td>0</td>\n",
       "      <td>0</td>\n",
       "      <td>1</td>\n",
       "      <td>50.0</td>\n",
       "      <td>36.0</td>\n",
       "      <td>27.0</td>\n",
       "    </tr>\n",
       "    <tr>\n",
       "      <th>1</th>\n",
       "      <td>0</td>\n",
       "      <td>0</td>\n",
       "      <td>28.0</td>\n",
       "      <td>19.0</td>\n",
       "      <td>2</td>\n",
       "      <td>9</td>\n",
       "      <td>7</td>\n",
       "      <td>3</td>\n",
       "      <td>10</td>\n",
       "      <td>1</td>\n",
       "      <td>...</td>\n",
       "      <td>2</td>\n",
       "      <td>4</td>\n",
       "      <td>4</td>\n",
       "      <td>5</td>\n",
       "      <td>0</td>\n",
       "      <td>6</td>\n",
       "      <td>10</td>\n",
       "      <td>40.0</td>\n",
       "      <td>7.0</td>\n",
       "      <td>4.0</td>\n",
       "    </tr>\n",
       "    <tr>\n",
       "      <th>2</th>\n",
       "      <td>3</td>\n",
       "      <td>1</td>\n",
       "      <td>30.0</td>\n",
       "      <td>15.0</td>\n",
       "      <td>2</td>\n",
       "      <td>7</td>\n",
       "      <td>7</td>\n",
       "      <td>3</td>\n",
       "      <td>8</td>\n",
       "      <td>1</td>\n",
       "      <td>...</td>\n",
       "      <td>2</td>\n",
       "      <td>5</td>\n",
       "      <td>0</td>\n",
       "      <td>2</td>\n",
       "      <td>0</td>\n",
       "      <td>6</td>\n",
       "      <td>10</td>\n",
       "      <td>80.0</td>\n",
       "      <td>4.0</td>\n",
       "      <td>2.0</td>\n",
       "    </tr>\n",
       "    <tr>\n",
       "      <th>3</th>\n",
       "      <td>0</td>\n",
       "      <td>1</td>\n",
       "      <td>25.0</td>\n",
       "      <td>18.0</td>\n",
       "      <td>2</td>\n",
       "      <td>7</td>\n",
       "      <td>7</td>\n",
       "      <td>3</td>\n",
       "      <td>8</td>\n",
       "      <td>3</td>\n",
       "      <td>...</td>\n",
       "      <td>2</td>\n",
       "      <td>4</td>\n",
       "      <td>0</td>\n",
       "      <td>5</td>\n",
       "      <td>0</td>\n",
       "      <td>6</td>\n",
       "      <td>10</td>\n",
       "      <td>40.0</td>\n",
       "      <td>7.0</td>\n",
       "      <td>4.0</td>\n",
       "    </tr>\n",
       "    <tr>\n",
       "      <th>4</th>\n",
       "      <td>4</td>\n",
       "      <td>1</td>\n",
       "      <td>31.0</td>\n",
       "      <td>16.0</td>\n",
       "      <td>2</td>\n",
       "      <td>10</td>\n",
       "      <td>6</td>\n",
       "      <td>5</td>\n",
       "      <td>8</td>\n",
       "      <td>1</td>\n",
       "      <td>...</td>\n",
       "      <td>2</td>\n",
       "      <td>5</td>\n",
       "      <td>4</td>\n",
       "      <td>0</td>\n",
       "      <td>0</td>\n",
       "      <td>5</td>\n",
       "      <td>7</td>\n",
       "      <td>45.0</td>\n",
       "      <td>15.0</td>\n",
       "      <td>8.0</td>\n",
       "    </tr>\n",
       "  </tbody>\n",
       "</table>\n",
       "<p>5 rows × 40 columns</p>\n",
       "</div>"
      ],
      "text/plain": [
       "   MainBranch  Hobbyist   Age  Age1stCode  CompFreq  Country  \\\n",
       "0           0         1  24.0        13.0         0        4   \n",
       "1           0         0  28.0        19.0         2        9   \n",
       "2           3         1  30.0        15.0         2        7   \n",
       "3           0         1  25.0        18.0         2        7   \n",
       "4           4         1  31.0        16.0         2       10   \n",
       "\n",
       "   DatabaseDesireNextYear  DatabaseWorkedWith  DevType  EdLevel  ...  \\\n",
       "0                       1                   5       10        3  ...   \n",
       "1                       7                   3       10        1  ...   \n",
       "2                       7                   3        8        1  ...   \n",
       "3                       7                   3        8        3  ...   \n",
       "4                       6                   5        8        1  ...   \n",
       "\n",
       "   SOAccount  SOComm  SOPartFreq  SOVisitFreq  Trans  WebframeDesireNextYear  \\\n",
       "0          0       1           4            5      0                       0   \n",
       "1          2       4           4            5      0                       6   \n",
       "2          2       5           0            2      0                       6   \n",
       "3          2       4           0            5      0                       6   \n",
       "4          2       5           4            0      0                       5   \n",
       "\n",
       "   WebframeWorkedWith  WorkWeekHrs  YearsCode  YearsCodePro  \n",
       "0                   1         50.0       36.0          27.0  \n",
       "1                  10         40.0        7.0           4.0  \n",
       "2                  10         80.0        4.0           2.0  \n",
       "3                  10         40.0        7.0           4.0  \n",
       "4                   7         45.0       15.0           8.0  \n",
       "\n",
       "[5 rows x 40 columns]"
      ]
     },
     "execution_count": 48,
     "metadata": {},
     "output_type": "execute_result"
    }
   ],
   "source": [
    "df1.head()"
   ]
  },
  {
   "cell_type": "code",
   "execution_count": 49,
   "id": "be1a843d",
   "metadata": {},
   "outputs": [
    {
     "name": "stdout",
     "output_type": "stream",
     "text": [
      "MainBranch [0 3 4 2 1]\n",
      "Hobbyist [1 0]\n",
      "CompFreq [0 2 1]\n",
      "Country [ 4  9  7 10  5  6  3  2  1  8  0]\n",
      "DatabaseDesireNextYear [ 1  7  6  2  9  3  5  8 10  4  0]\n",
      "DatabaseWorkedWith [5 3 0 6 4 7 2 1]\n",
      "DevType [10  8  0  5  4  6  3  2  9  7  1]\n",
      "EdLevel [3 1 7 6 8 0 4 5 2]\n",
      "Employment [2 0 6 4 1 5 3]\n",
      "Gender [0 3 1 2 6 5 4]\n",
      "JobSat [2 3 4 1 0]\n",
      "JobSeek [1 2 0]\n",
      "LanguageWorkedWith [ 9  6  5  4  7 10  1  2  3  8  0]\n",
      "NEWCollabToolsDesireNextYear [10  6  2  5  3  7  4  9  0  8  1]\n",
      "NEWCollabToolsWorkedWith [10  4  3  9  7  2  5  8  1  0  6]\n",
      "NEWDevOps [0 2 1]\n",
      "NEWDevOpsImpt [4 0 1 2 3]\n",
      "NEWEdImpt [1 2 4 3 0]\n",
      "NEWLearn [2 1 0 3]\n",
      "NEWOffTopic [1 0 2]\n",
      "NEWOnboardGood [2 0 1]\n",
      "NEWOtherComms [0 1]\n",
      "NEWOvertime [2 4 1 0 3]\n",
      "NEWPurpleLink [0 2 1 3]\n",
      "OpSys [3 2 1 0]\n",
      "PlatformDesireNextYear [ 9  6  2  5 10  7  8  4  0  1  3]\n",
      "PlatformWorkedWith [6219 6222  665 ... 3875 2838  847]\n",
      "PurchaseWhat [1 0 2]\n",
      "SOAccount [0 2 1]\n",
      "SOComm [1 4 5 2 0 3]\n",
      "SOPartFreq [4 0 5 3 1 2]\n",
      "SOVisitFreq [5 2 0 1 3 4]\n",
      "Trans [0 1]\n",
      "WebframeDesireNextYear [ 0  6  5  8  4  3  9 10  2  1  7]\n",
      "WebframeWorkedWith [ 1 10  7  6  5  0  3  4  8  9  2]\n"
     ]
    }
   ],
   "source": [
    "for col in cat_cols:\n",
    "    print(f'{col} {df1[col].unique()}')"
   ]
  },
  {
   "cell_type": "code",
   "execution_count": 50,
   "id": "dbc52b45",
   "metadata": {},
   "outputs": [],
   "source": [
    "### saving dataset\n",
    "df2 = df1.copy()\n",
    "df2.to_csv(\"dataset.csv\")"
   ]
  },
  {
   "cell_type": "markdown",
   "id": "44ed453b",
   "metadata": {},
   "source": [
    "## Using Dtale to check distributions and outliers"
   ]
  },
  {
   "cell_type": "code",
   "execution_count": 51,
   "id": "3c376c7a",
   "metadata": {},
   "outputs": [
    {
     "data": {
      "text/html": [
       "\n",
       "        <iframe\n",
       "            width=\"100%\"\n",
       "            height=\"475\"\n",
       "            src=\"http://techie:40000/dtale/iframe/2\"\n",
       "            frameborder=\"0\"\n",
       "            allowfullscreen\n",
       "            \n",
       "        ></iframe>\n",
       "        "
      ],
      "text/plain": [
       "<IPython.lib.display.IFrame at 0x7f5d4f6dc7c0>"
      ]
     },
     "metadata": {},
     "output_type": "display_data"
    },
    {
     "data": {
      "text/plain": []
     },
     "execution_count": 51,
     "metadata": {},
     "output_type": "execute_result"
    }
   ],
   "source": [
    "dtale.show(df2)"
   ]
  },
  {
   "cell_type": "markdown",
   "id": "8f136264",
   "metadata": {},
   "source": [
    "## Feature selection"
   ]
  },
  {
   "cell_type": "code",
   "execution_count": 52,
   "id": "fd0cf9c4",
   "metadata": {},
   "outputs": [
    {
     "data": {
      "text/html": [
       "<style>#sk-container-id-1 {color: black;background-color: white;}#sk-container-id-1 pre{padding: 0;}#sk-container-id-1 div.sk-toggleable {background-color: white;}#sk-container-id-1 label.sk-toggleable__label {cursor: pointer;display: block;width: 100%;margin-bottom: 0;padding: 0.3em;box-sizing: border-box;text-align: center;}#sk-container-id-1 label.sk-toggleable__label-arrow:before {content: \"▸\";float: left;margin-right: 0.25em;color: #696969;}#sk-container-id-1 label.sk-toggleable__label-arrow:hover:before {color: black;}#sk-container-id-1 div.sk-estimator:hover label.sk-toggleable__label-arrow:before {color: black;}#sk-container-id-1 div.sk-toggleable__content {max-height: 0;max-width: 0;overflow: hidden;text-align: left;background-color: #f0f8ff;}#sk-container-id-1 div.sk-toggleable__content pre {margin: 0.2em;color: black;border-radius: 0.25em;background-color: #f0f8ff;}#sk-container-id-1 input.sk-toggleable__control:checked~div.sk-toggleable__content {max-height: 200px;max-width: 100%;overflow: auto;}#sk-container-id-1 input.sk-toggleable__control:checked~label.sk-toggleable__label-arrow:before {content: \"▾\";}#sk-container-id-1 div.sk-estimator input.sk-toggleable__control:checked~label.sk-toggleable__label {background-color: #d4ebff;}#sk-container-id-1 div.sk-label input.sk-toggleable__control:checked~label.sk-toggleable__label {background-color: #d4ebff;}#sk-container-id-1 input.sk-hidden--visually {border: 0;clip: rect(1px 1px 1px 1px);clip: rect(1px, 1px, 1px, 1px);height: 1px;margin: -1px;overflow: hidden;padding: 0;position: absolute;width: 1px;}#sk-container-id-1 div.sk-estimator {font-family: monospace;background-color: #f0f8ff;border: 1px dotted black;border-radius: 0.25em;box-sizing: border-box;margin-bottom: 0.5em;}#sk-container-id-1 div.sk-estimator:hover {background-color: #d4ebff;}#sk-container-id-1 div.sk-parallel-item::after {content: \"\";width: 100%;border-bottom: 1px solid gray;flex-grow: 1;}#sk-container-id-1 div.sk-label:hover label.sk-toggleable__label {background-color: #d4ebff;}#sk-container-id-1 div.sk-serial::before {content: \"\";position: absolute;border-left: 1px solid gray;box-sizing: border-box;top: 0;bottom: 0;left: 50%;z-index: 0;}#sk-container-id-1 div.sk-serial {display: flex;flex-direction: column;align-items: center;background-color: white;padding-right: 0.2em;padding-left: 0.2em;position: relative;}#sk-container-id-1 div.sk-item {position: relative;z-index: 1;}#sk-container-id-1 div.sk-parallel {display: flex;align-items: stretch;justify-content: center;background-color: white;position: relative;}#sk-container-id-1 div.sk-item::before, #sk-container-id-1 div.sk-parallel-item::before {content: \"\";position: absolute;border-left: 1px solid gray;box-sizing: border-box;top: 0;bottom: 0;left: 50%;z-index: -1;}#sk-container-id-1 div.sk-parallel-item {display: flex;flex-direction: column;z-index: 1;position: relative;background-color: white;}#sk-container-id-1 div.sk-parallel-item:first-child::after {align-self: flex-end;width: 50%;}#sk-container-id-1 div.sk-parallel-item:last-child::after {align-self: flex-start;width: 50%;}#sk-container-id-1 div.sk-parallel-item:only-child::after {width: 0;}#sk-container-id-1 div.sk-dashed-wrapped {border: 1px dashed gray;margin: 0 0.4em 0.5em 0.4em;box-sizing: border-box;padding-bottom: 0.4em;background-color: white;}#sk-container-id-1 div.sk-label label {font-family: monospace;font-weight: bold;display: inline-block;line-height: 1.2em;}#sk-container-id-1 div.sk-label-container {text-align: center;}#sk-container-id-1 div.sk-container {/* jupyter's `normalize.less` sets `[hidden] { display: none; }` but bootstrap.min.css set `[hidden] { display: none !important; }` so we also need the `!important` here to be able to override the default hidden behavior on the sphinx rendered scikit-learn.org. See: https://github.com/scikit-learn/scikit-learn/issues/21755 */display: inline-block !important;position: relative;}#sk-container-id-1 div.sk-text-repr-fallback {display: none;}</style><div id=\"sk-container-id-1\" class=\"sk-top-container\"><div class=\"sk-text-repr-fallback\"><pre>SelectFromModel(estimator=Lasso(alpha=0.05, random_state=0))</pre><b>In a Jupyter environment, please rerun this cell to show the HTML representation or trust the notebook. <br />On GitHub, the HTML representation is unable to render, please try loading this page with nbviewer.org.</b></div><div class=\"sk-container\" hidden><div class=\"sk-item sk-dashed-wrapped\"><div class=\"sk-label-container\"><div class=\"sk-label sk-toggleable\"><input class=\"sk-toggleable__control sk-hidden--visually\" id=\"sk-estimator-id-1\" type=\"checkbox\" ><label for=\"sk-estimator-id-1\" class=\"sk-toggleable__label sk-toggleable__label-arrow\">SelectFromModel</label><div class=\"sk-toggleable__content\"><pre>SelectFromModel(estimator=Lasso(alpha=0.05, random_state=0))</pre></div></div></div><div class=\"sk-parallel\"><div class=\"sk-parallel-item\"><div class=\"sk-item\"><div class=\"sk-label-container\"><div class=\"sk-label sk-toggleable\"><input class=\"sk-toggleable__control sk-hidden--visually\" id=\"sk-estimator-id-2\" type=\"checkbox\" ><label for=\"sk-estimator-id-2\" class=\"sk-toggleable__label sk-toggleable__label-arrow\">estimator: Lasso</label><div class=\"sk-toggleable__content\"><pre>Lasso(alpha=0.05, random_state=0)</pre></div></div></div><div class=\"sk-serial\"><div class=\"sk-item\"><div class=\"sk-estimator sk-toggleable\"><input class=\"sk-toggleable__control sk-hidden--visually\" id=\"sk-estimator-id-3\" type=\"checkbox\" ><label for=\"sk-estimator-id-3\" class=\"sk-toggleable__label sk-toggleable__label-arrow\">Lasso</label><div class=\"sk-toggleable__content\"><pre>Lasso(alpha=0.05, random_state=0)</pre></div></div></div></div></div></div></div></div></div></div>"
      ],
      "text/plain": [
       "SelectFromModel(estimator=Lasso(alpha=0.05, random_state=0))"
      ]
     },
     "execution_count": 52,
     "metadata": {},
     "output_type": "execute_result"
    }
   ],
   "source": [
    "from sklearn.linear_model import Lasso\n",
    "from sklearn.feature_selection import SelectFromModel\n",
    "\n",
    "X = df2.drop(['YearsCode'], axis=1)\n",
    "y = df2['YearsCode']\n",
    "\n",
    "feature_sel_model = SelectFromModel(Lasso(alpha=0.05, random_state=0)) # remember to set the seed, the random state in this function\n",
    "feature_sel_model.fit(X, y)"
   ]
  },
  {
   "cell_type": "code",
   "execution_count": 53,
   "id": "bf684a41",
   "metadata": {},
   "outputs": [
    {
     "data": {
      "text/plain": [
       "array([False, False,  True,  True,  True,  True,  True, False,  True,\n",
       "        True,  True,  True, False,  True,  True,  True,  True,  True,\n",
       "        True,  True,  True,  True,  True,  True,  True, False,  True,\n",
       "        True,  True, False, False,  True,  True,  True, False, False,\n",
       "        True,  True,  True])"
      ]
     },
     "execution_count": 53,
     "metadata": {},
     "output_type": "execute_result"
    }
   ],
   "source": [
    "feature_sel_model.get_support()"
   ]
  },
  {
   "cell_type": "code",
   "execution_count": 54,
   "id": "de4a33e5",
   "metadata": {},
   "outputs": [
    {
     "name": "stdout",
     "output_type": "stream",
     "text": [
      "total features: 39\n",
      "selected features: 30\n"
     ]
    }
   ],
   "source": [
    "# let's print the number of total and selected features\n",
    "\n",
    "selected_feat = X.columns[(feature_sel_model.get_support())]\n",
    "\n",
    "# let's print some stats\n",
    "print('total features: {}'.format((X.shape[1])))\n",
    "print('selected features: {}'.format(len(selected_feat)))"
   ]
  },
  {
   "cell_type": "code",
   "execution_count": 55,
   "id": "a43284ee",
   "metadata": {},
   "outputs": [
    {
     "data": {
      "text/plain": [
       "Index(['Age', 'Age1stCode', 'CompFreq', 'Country', 'DatabaseDesireNextYear',\n",
       "       'DevType', 'EdLevel', 'Employment', 'Gender', 'JobSeek',\n",
       "       'LanguageWorkedWith', 'NEWCollabToolsDesireNextYear',\n",
       "       'NEWCollabToolsWorkedWith', 'NEWDevOps', 'NEWDevOpsImpt', 'NEWEdImpt',\n",
       "       'NEWLearn', 'NEWOffTopic', 'NEWOnboardGood', 'NEWOtherComms',\n",
       "       'NEWOvertime', 'OpSys', 'PlatformDesireNextYear', 'PlatformWorkedWith',\n",
       "       'SOComm', 'SOPartFreq', 'SOVisitFreq', 'WebframeWorkedWith',\n",
       "       'WorkWeekHrs', 'YearsCodePro'],\n",
       "      dtype='object')"
      ]
     },
     "execution_count": 55,
     "metadata": {},
     "output_type": "execute_result"
    }
   ],
   "source": [
    "selected_feat"
   ]
  },
  {
   "cell_type": "code",
   "execution_count": 56,
   "id": "19f17f01",
   "metadata": {},
   "outputs": [],
   "source": [
    "X_data = df2[['Age', 'Age1stCode', 'CompFreq', 'Country', 'DatabaseDesireNextYear',\n",
    "       'DevType', 'EdLevel', 'Employment', 'Gender', 'JobSeek',\n",
    "       'LanguageWorkedWith', 'NEWCollabToolsDesireNextYear', 'NEWDevOps',\n",
    "       'NEWDevOpsImpt', 'NEWEdImpt', 'NEWLearn', 'NEWOffTopic',\n",
    "       'NEWOnboardGood', 'NEWOvertime', 'OpSys', 'PlatformDesireNextYear',\n",
    "       'PlatformWorkedWith', 'SOAccount', 'SOComm', 'SOPartFreq',\n",
    "       'SOVisitFreq', 'WebframeWorkedWith', 'WorkWeekHrs', 'YearsCodePro']]\n",
    "y_data = df2.YearsCode"
   ]
  },
  {
   "cell_type": "code",
   "execution_count": 57,
   "id": "112fdf4f",
   "metadata": {},
   "outputs": [
    {
     "data": {
      "text/plain": [
       "(64461, 29)"
      ]
     },
     "execution_count": 57,
     "metadata": {},
     "output_type": "execute_result"
    }
   ],
   "source": [
    "X_data.shape"
   ]
  },
  {
   "cell_type": "markdown",
   "id": "da61fecf",
   "metadata": {},
   "source": [
    "## Model training"
   ]
  },
  {
   "cell_type": "markdown",
   "id": "0246f4e8",
   "metadata": {},
   "source": [
    "### split the dataset"
   ]
  },
  {
   "cell_type": "code",
   "execution_count": 58,
   "id": "e698a845",
   "metadata": {},
   "outputs": [
    {
     "data": {
      "text/plain": [
       "((48345, 29), (48345,))"
      ]
     },
     "execution_count": 58,
     "metadata": {},
     "output_type": "execute_result"
    }
   ],
   "source": [
    "X_train, X_test, y_train, y_test = train_test_split(X_data, y_data)\n",
    "\n",
    "X_train.shape, y_train.shape"
   ]
  },
  {
   "cell_type": "markdown",
   "id": "3ebb9f42",
   "metadata": {},
   "source": [
    "### Create the model"
   ]
  },
  {
   "cell_type": "code",
   "execution_count": 67,
   "id": "86d7cf11",
   "metadata": {},
   "outputs": [
    {
     "data": {
      "text/html": [
       "<style>#sk-container-id-6 {color: black;background-color: white;}#sk-container-id-6 pre{padding: 0;}#sk-container-id-6 div.sk-toggleable {background-color: white;}#sk-container-id-6 label.sk-toggleable__label {cursor: pointer;display: block;width: 100%;margin-bottom: 0;padding: 0.3em;box-sizing: border-box;text-align: center;}#sk-container-id-6 label.sk-toggleable__label-arrow:before {content: \"▸\";float: left;margin-right: 0.25em;color: #696969;}#sk-container-id-6 label.sk-toggleable__label-arrow:hover:before {color: black;}#sk-container-id-6 div.sk-estimator:hover label.sk-toggleable__label-arrow:before {color: black;}#sk-container-id-6 div.sk-toggleable__content {max-height: 0;max-width: 0;overflow: hidden;text-align: left;background-color: #f0f8ff;}#sk-container-id-6 div.sk-toggleable__content pre {margin: 0.2em;color: black;border-radius: 0.25em;background-color: #f0f8ff;}#sk-container-id-6 input.sk-toggleable__control:checked~div.sk-toggleable__content {max-height: 200px;max-width: 100%;overflow: auto;}#sk-container-id-6 input.sk-toggleable__control:checked~label.sk-toggleable__label-arrow:before {content: \"▾\";}#sk-container-id-6 div.sk-estimator input.sk-toggleable__control:checked~label.sk-toggleable__label {background-color: #d4ebff;}#sk-container-id-6 div.sk-label input.sk-toggleable__control:checked~label.sk-toggleable__label {background-color: #d4ebff;}#sk-container-id-6 input.sk-hidden--visually {border: 0;clip: rect(1px 1px 1px 1px);clip: rect(1px, 1px, 1px, 1px);height: 1px;margin: -1px;overflow: hidden;padding: 0;position: absolute;width: 1px;}#sk-container-id-6 div.sk-estimator {font-family: monospace;background-color: #f0f8ff;border: 1px dotted black;border-radius: 0.25em;box-sizing: border-box;margin-bottom: 0.5em;}#sk-container-id-6 div.sk-estimator:hover {background-color: #d4ebff;}#sk-container-id-6 div.sk-parallel-item::after {content: \"\";width: 100%;border-bottom: 1px solid gray;flex-grow: 1;}#sk-container-id-6 div.sk-label:hover label.sk-toggleable__label {background-color: #d4ebff;}#sk-container-id-6 div.sk-serial::before {content: \"\";position: absolute;border-left: 1px solid gray;box-sizing: border-box;top: 0;bottom: 0;left: 50%;z-index: 0;}#sk-container-id-6 div.sk-serial {display: flex;flex-direction: column;align-items: center;background-color: white;padding-right: 0.2em;padding-left: 0.2em;position: relative;}#sk-container-id-6 div.sk-item {position: relative;z-index: 1;}#sk-container-id-6 div.sk-parallel {display: flex;align-items: stretch;justify-content: center;background-color: white;position: relative;}#sk-container-id-6 div.sk-item::before, #sk-container-id-6 div.sk-parallel-item::before {content: \"\";position: absolute;border-left: 1px solid gray;box-sizing: border-box;top: 0;bottom: 0;left: 50%;z-index: -1;}#sk-container-id-6 div.sk-parallel-item {display: flex;flex-direction: column;z-index: 1;position: relative;background-color: white;}#sk-container-id-6 div.sk-parallel-item:first-child::after {align-self: flex-end;width: 50%;}#sk-container-id-6 div.sk-parallel-item:last-child::after {align-self: flex-start;width: 50%;}#sk-container-id-6 div.sk-parallel-item:only-child::after {width: 0;}#sk-container-id-6 div.sk-dashed-wrapped {border: 1px dashed gray;margin: 0 0.4em 0.5em 0.4em;box-sizing: border-box;padding-bottom: 0.4em;background-color: white;}#sk-container-id-6 div.sk-label label {font-family: monospace;font-weight: bold;display: inline-block;line-height: 1.2em;}#sk-container-id-6 div.sk-label-container {text-align: center;}#sk-container-id-6 div.sk-container {/* jupyter's `normalize.less` sets `[hidden] { display: none; }` but bootstrap.min.css set `[hidden] { display: none !important; }` so we also need the `!important` here to be able to override the default hidden behavior on the sphinx rendered scikit-learn.org. See: https://github.com/scikit-learn/scikit-learn/issues/21755 */display: inline-block !important;position: relative;}#sk-container-id-6 div.sk-text-repr-fallback {display: none;}</style><div id=\"sk-container-id-6\" class=\"sk-top-container\"><div class=\"sk-text-repr-fallback\"><pre>RandomForestRegressor()</pre><b>In a Jupyter environment, please rerun this cell to show the HTML representation or trust the notebook. <br />On GitHub, the HTML representation is unable to render, please try loading this page with nbviewer.org.</b></div><div class=\"sk-container\" hidden><div class=\"sk-item\"><div class=\"sk-estimator sk-toggleable\"><input class=\"sk-toggleable__control sk-hidden--visually\" id=\"sk-estimator-id-8\" type=\"checkbox\" checked><label for=\"sk-estimator-id-8\" class=\"sk-toggleable__label sk-toggleable__label-arrow\">RandomForestRegressor</label><div class=\"sk-toggleable__content\"><pre>RandomForestRegressor()</pre></div></div></div></div></div>"
      ],
      "text/plain": [
       "RandomForestRegressor()"
      ]
     },
     "execution_count": 67,
     "metadata": {},
     "output_type": "execute_result"
    }
   ],
   "source": [
    "model = RandomForestRegressor()\n",
    "model.fit(X_train, y_train)"
   ]
  },
  {
   "cell_type": "code",
   "execution_count": 68,
   "id": "f795164f",
   "metadata": {},
   "outputs": [
    {
     "data": {
      "text/plain": [
       "0.6312109793317185"
      ]
     },
     "execution_count": 68,
     "metadata": {},
     "output_type": "execute_result"
    }
   ],
   "source": [
    "model.score(X_test, y_test)"
   ]
  }
 ],
 "metadata": {
  "kernelspec": {
   "display_name": "Python 3 (ipykernel)",
   "language": "python",
   "name": "python3"
  },
  "language_info": {
   "codemirror_mode": {
    "name": "ipython",
    "version": 3
   },
   "file_extension": ".py",
   "mimetype": "text/x-python",
   "name": "python",
   "nbconvert_exporter": "python",
   "pygments_lexer": "ipython3",
   "version": "3.10.6"
  }
 },
 "nbformat": 4,
 "nbformat_minor": 5
}
